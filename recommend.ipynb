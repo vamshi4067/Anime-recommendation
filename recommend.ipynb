{
 "cells": [
  {
   "cell_type": "code",
   "execution_count": 65,
   "metadata": {},
   "outputs": [],
   "source": [
    "import pandas as pd\n",
    "import numpy as np\n",
    "import matplotlib.pyplot as plt\n",
    "%matplotlib inline\n",
    "import seaborn as sns"
   ]
  },
  {
   "cell_type": "markdown",
   "metadata": {},
   "source": [
    "##### Reading the data"
   ]
  },
  {
   "cell_type": "code",
   "execution_count": 2,
   "metadata": {},
   "outputs": [],
   "source": [
    "anime = pd.read_csv('F:/study/masters/3 sem/Ait-664/Project/anime.csv')"
   ]
  },
  {
   "cell_type": "code",
   "execution_count": 3,
   "metadata": {},
   "outputs": [
    {
     "data": {
      "text/html": [
       "<div>\n",
       "<style scoped>\n",
       "    .dataframe tbody tr th:only-of-type {\n",
       "        vertical-align: middle;\n",
       "    }\n",
       "\n",
       "    .dataframe tbody tr th {\n",
       "        vertical-align: top;\n",
       "    }\n",
       "\n",
       "    .dataframe thead th {\n",
       "        text-align: right;\n",
       "    }\n",
       "</style>\n",
       "<table border=\"1\" class=\"dataframe\">\n",
       "  <thead>\n",
       "    <tr style=\"text-align: right;\">\n",
       "      <th></th>\n",
       "      <th>anime_id</th>\n",
       "      <th>name</th>\n",
       "      <th>genre</th>\n",
       "      <th>type</th>\n",
       "      <th>episodes</th>\n",
       "      <th>rating</th>\n",
       "      <th>members</th>\n",
       "    </tr>\n",
       "  </thead>\n",
       "  <tbody>\n",
       "    <tr>\n",
       "      <td>0</td>\n",
       "      <td>32281</td>\n",
       "      <td>Kimi no Na wa.</td>\n",
       "      <td>Drama, Romance, School, Supernatural</td>\n",
       "      <td>Movie</td>\n",
       "      <td>1</td>\n",
       "      <td>9.37</td>\n",
       "      <td>200630</td>\n",
       "    </tr>\n",
       "    <tr>\n",
       "      <td>1</td>\n",
       "      <td>5114</td>\n",
       "      <td>Fullmetal Alchemist: Brotherhood</td>\n",
       "      <td>Action, Adventure, Drama, Fantasy, Magic, Mili...</td>\n",
       "      <td>TV</td>\n",
       "      <td>64</td>\n",
       "      <td>9.26</td>\n",
       "      <td>793665</td>\n",
       "    </tr>\n",
       "    <tr>\n",
       "      <td>2</td>\n",
       "      <td>28977</td>\n",
       "      <td>Gintama°</td>\n",
       "      <td>Action, Comedy, Historical, Parody, Samurai, S...</td>\n",
       "      <td>TV</td>\n",
       "      <td>51</td>\n",
       "      <td>9.25</td>\n",
       "      <td>114262</td>\n",
       "    </tr>\n",
       "    <tr>\n",
       "      <td>3</td>\n",
       "      <td>9253</td>\n",
       "      <td>Steins;Gate</td>\n",
       "      <td>Sci-Fi, Thriller</td>\n",
       "      <td>TV</td>\n",
       "      <td>24</td>\n",
       "      <td>9.17</td>\n",
       "      <td>673572</td>\n",
       "    </tr>\n",
       "    <tr>\n",
       "      <td>4</td>\n",
       "      <td>9969</td>\n",
       "      <td>Gintama&amp;#039;</td>\n",
       "      <td>Action, Comedy, Historical, Parody, Samurai, S...</td>\n",
       "      <td>TV</td>\n",
       "      <td>51</td>\n",
       "      <td>9.16</td>\n",
       "      <td>151266</td>\n",
       "    </tr>\n",
       "  </tbody>\n",
       "</table>\n",
       "</div>"
      ],
      "text/plain": [
       "   anime_id                              name  \\\n",
       "0     32281                    Kimi no Na wa.   \n",
       "1      5114  Fullmetal Alchemist: Brotherhood   \n",
       "2     28977                          Gintama°   \n",
       "3      9253                       Steins;Gate   \n",
       "4      9969                     Gintama&#039;   \n",
       "\n",
       "                                               genre   type episodes  rating  \\\n",
       "0               Drama, Romance, School, Supernatural  Movie        1    9.37   \n",
       "1  Action, Adventure, Drama, Fantasy, Magic, Mili...     TV       64    9.26   \n",
       "2  Action, Comedy, Historical, Parody, Samurai, S...     TV       51    9.25   \n",
       "3                                   Sci-Fi, Thriller     TV       24    9.17   \n",
       "4  Action, Comedy, Historical, Parody, Samurai, S...     TV       51    9.16   \n",
       "\n",
       "   members  \n",
       "0   200630  \n",
       "1   793665  \n",
       "2   114262  \n",
       "3   673572  \n",
       "4   151266  "
      ]
     },
     "execution_count": 3,
     "metadata": {},
     "output_type": "execute_result"
    }
   ],
   "source": [
    "#head and shape of the data\n",
    "anime.head()"
   ]
  },
  {
   "cell_type": "code",
   "execution_count": 4,
   "metadata": {},
   "outputs": [
    {
     "data": {
      "text/plain": [
       "(12294, 7)"
      ]
     },
     "execution_count": 4,
     "metadata": {},
     "output_type": "execute_result"
    }
   ],
   "source": [
    "np.shape(anime)"
   ]
  },
  {
   "cell_type": "code",
   "execution_count": 5,
   "metadata": {},
   "outputs": [
    {
     "data": {
      "text/plain": [
       "anime_id      0\n",
       "name          0\n",
       "genre        62\n",
       "type         25\n",
       "episodes      0\n",
       "rating      230\n",
       "members       0\n",
       "dtype: int64"
      ]
     },
     "execution_count": 5,
     "metadata": {},
     "output_type": "execute_result"
    }
   ],
   "source": [
    "#number of null values in the data\n",
    "anime.isna().sum()"
   ]
  },
  {
   "cell_type": "code",
   "execution_count": 6,
   "metadata": {},
   "outputs": [
    {
     "data": {
      "text/plain": [
       "<matplotlib.axes._subplots.AxesSubplot at 0x1fa49c34358>"
      ]
     },
     "execution_count": 6,
     "metadata": {},
     "output_type": "execute_result"
    },
    {
     "data": {
      "image/png": "[encoded data removed]",
      "text/plain": [
       "<Figure size 432x288 with 2 Axes>"
      ]
     },
     "metadata": {
      "needs_background": "light"
     },
     "output_type": "display_data"
    }
   ],
   "source": [
    "#heatmap of null values\n",
    "sns.heatmap(anime.isnull())"
   ]
  },
  {
   "cell_type": "code",
   "execution_count": 7,
   "metadata": {},
   "outputs": [
    {
     "data": {
      "text/plain": [
       "anime_id      0\n",
       "name          0\n",
       "genre        62\n",
       "type         25\n",
       "episodes    340\n",
       "rating      230\n",
       "members       0\n",
       "dtype: int64"
      ]
     },
     "execution_count": 7,
     "metadata": {},
     "output_type": "execute_result"
    }
   ],
   "source": [
    "#episodes has unkown in place of NA, replace it with null\n",
    "anime['episodes'] = anime['episodes'].replace('Unknown',np.nan)\n",
    "anime.isna().sum()"
   ]
  },
  {
   "cell_type": "markdown",
   "metadata": {},
   "source": [
    "We see that there are 340 episodes that are unknown or null values"
   ]
  },
  {
   "cell_type": "code",
   "execution_count": 8,
   "metadata": {},
   "outputs": [
    {
     "data": {
      "text/plain": [
       "<matplotlib.axes._subplots.AxesSubplot at 0x1fa4a14bdd8>"
      ]
     },
     "execution_count": 8,
     "metadata": {},
     "output_type": "execute_result"
    },
    {
     "data": {
      "image/png": "[encoded data removed]",
      "text/plain": [
       "<Figure size 432x288 with 2 Axes>"
      ]
     },
     "metadata": {
      "needs_background": "light"
     },
     "output_type": "display_data"
    }
   ],
   "source": [
    "sns.heatmap(anime.isnull())"
   ]
  },
  {
   "cell_type": "code",
   "execution_count": 9,
   "metadata": {},
   "outputs": [
    {
     "data": {
      "text/html": [
       "<div>\n",
       "<style scoped>\n",
       "    .dataframe tbody tr th:only-of-type {\n",
       "        vertical-align: middle;\n",
       "    }\n",
       "\n",
       "    .dataframe tbody tr th {\n",
       "        vertical-align: top;\n",
       "    }\n",
       "\n",
       "    .dataframe thead th {\n",
       "        text-align: right;\n",
       "    }\n",
       "</style>\n",
       "<table border=\"1\" class=\"dataframe\">\n",
       "  <thead>\n",
       "    <tr style=\"text-align: right;\">\n",
       "      <th></th>\n",
       "      <th>anime_id</th>\n",
       "      <th>episodes</th>\n",
       "      <th>rating</th>\n",
       "      <th>members</th>\n",
       "    </tr>\n",
       "  </thead>\n",
       "  <tbody>\n",
       "    <tr>\n",
       "      <td>anime_id</td>\n",
       "      <td>1.000000</td>\n",
       "      <td>-0.072945</td>\n",
       "      <td>-0.284625</td>\n",
       "      <td>-0.080071</td>\n",
       "    </tr>\n",
       "    <tr>\n",
       "      <td>episodes</td>\n",
       "      <td>-0.072945</td>\n",
       "      <td>1.000000</td>\n",
       "      <td>0.088761</td>\n",
       "      <td>0.056307</td>\n",
       "    </tr>\n",
       "    <tr>\n",
       "      <td>rating</td>\n",
       "      <td>-0.284625</td>\n",
       "      <td>0.088761</td>\n",
       "      <td>1.000000</td>\n",
       "      <td>0.387979</td>\n",
       "    </tr>\n",
       "    <tr>\n",
       "      <td>members</td>\n",
       "      <td>-0.080071</td>\n",
       "      <td>0.056307</td>\n",
       "      <td>0.387979</td>\n",
       "      <td>1.000000</td>\n",
       "    </tr>\n",
       "  </tbody>\n",
       "</table>\n",
       "</div>"
      ],
      "text/plain": [
       "          anime_id  episodes    rating   members\n",
       "anime_id  1.000000 -0.072945 -0.284625 -0.080071\n",
       "episodes -0.072945  1.000000  0.088761  0.056307\n",
       "rating   -0.284625  0.088761  1.000000  0.387979\n",
       "members  -0.080071  0.056307  0.387979  1.000000"
      ]
     },
     "execution_count": 9,
     "metadata": {},
     "output_type": "execute_result"
    }
   ],
   "source": [
    "#Converting datatype of episodes from object to numeric\n",
    "anime['episodes'] = pd.to_numeric(anime['episodes'])\n",
    "anime['episodes'].dtype\n",
    "\n",
    "#getting the correlation plot of columns having null values\n",
    "anime.corr()"
   ]
  },
  {
   "cell_type": "code",
   "execution_count": 10,
   "metadata": {},
   "outputs": [
    {
     "data": {
      "text/plain": [
       "anime_id    0\n",
       "name        0\n",
       "genre       0\n",
       "type        0\n",
       "episodes    0\n",
       "rating      0\n",
       "members     0\n",
       "dtype: int64"
      ]
     },
     "execution_count": 10,
     "metadata": {},
     "output_type": "execute_result"
    }
   ],
   "source": [
    "#Since none of them are highly correlated drop the rows having null values\n",
    "anime = anime.dropna()\n",
    "anime.isna().sum()"
   ]
  },
  {
   "cell_type": "code",
   "execution_count": 11,
   "metadata": {},
   "outputs": [],
   "source": [
    "rating = pd.read_csv('F:/study/masters/3 sem/Ait-664/Project/rating.csv')"
   ]
  },
  {
   "cell_type": "code",
   "execution_count": 12,
   "metadata": {},
   "outputs": [
    {
     "data": {
      "text/html": [
       "<div>\n",
       "<style scoped>\n",
       "    .dataframe tbody tr th:only-of-type {\n",
       "        vertical-align: middle;\n",
       "    }\n",
       "\n",
       "    .dataframe tbody tr th {\n",
       "        vertical-align: top;\n",
       "    }\n",
       "\n",
       "    .dataframe thead th {\n",
       "        text-align: right;\n",
       "    }\n",
       "</style>\n",
       "<table border=\"1\" class=\"dataframe\">\n",
       "  <thead>\n",
       "    <tr style=\"text-align: right;\">\n",
       "      <th></th>\n",
       "      <th>user_id</th>\n",
       "      <th>anime_id</th>\n",
       "      <th>rating</th>\n",
       "    </tr>\n",
       "  </thead>\n",
       "  <tbody>\n",
       "    <tr>\n",
       "      <td>0</td>\n",
       "      <td>1</td>\n",
       "      <td>20</td>\n",
       "      <td>-1</td>\n",
       "    </tr>\n",
       "    <tr>\n",
       "      <td>1</td>\n",
       "      <td>1</td>\n",
       "      <td>24</td>\n",
       "      <td>-1</td>\n",
       "    </tr>\n",
       "    <tr>\n",
       "      <td>2</td>\n",
       "      <td>1</td>\n",
       "      <td>79</td>\n",
       "      <td>-1</td>\n",
       "    </tr>\n",
       "    <tr>\n",
       "      <td>3</td>\n",
       "      <td>1</td>\n",
       "      <td>226</td>\n",
       "      <td>-1</td>\n",
       "    </tr>\n",
       "    <tr>\n",
       "      <td>4</td>\n",
       "      <td>1</td>\n",
       "      <td>241</td>\n",
       "      <td>-1</td>\n",
       "    </tr>\n",
       "  </tbody>\n",
       "</table>\n",
       "</div>"
      ],
      "text/plain": [
       "   user_id  anime_id  rating\n",
       "0        1        20      -1\n",
       "1        1        24      -1\n",
       "2        1        79      -1\n",
       "3        1       226      -1\n",
       "4        1       241      -1"
      ]
     },
     "execution_count": 12,
     "metadata": {},
     "output_type": "execute_result"
    }
   ],
   "source": [
    "#Applying similar procedure to handle null values in rating\n",
    "rating.head()"
   ]
  },
  {
   "cell_type": "code",
   "execution_count": 13,
   "metadata": {},
   "outputs": [
    {
     "data": {
      "text/html": [
       "<div>\n",
       "<style scoped>\n",
       "    .dataframe tbody tr th:only-of-type {\n",
       "        vertical-align: middle;\n",
       "    }\n",
       "\n",
       "    .dataframe tbody tr th {\n",
       "        vertical-align: top;\n",
       "    }\n",
       "\n",
       "    .dataframe thead th {\n",
       "        text-align: right;\n",
       "    }\n",
       "</style>\n",
       "<table border=\"1\" class=\"dataframe\">\n",
       "  <thead>\n",
       "    <tr style=\"text-align: right;\">\n",
       "      <th></th>\n",
       "      <th>user_id</th>\n",
       "      <th>anime_id</th>\n",
       "      <th>User_rating</th>\n",
       "    </tr>\n",
       "  </thead>\n",
       "  <tbody>\n",
       "    <tr>\n",
       "      <td>0</td>\n",
       "      <td>1</td>\n",
       "      <td>20</td>\n",
       "      <td>-1</td>\n",
       "    </tr>\n",
       "    <tr>\n",
       "      <td>1</td>\n",
       "      <td>1</td>\n",
       "      <td>24</td>\n",
       "      <td>-1</td>\n",
       "    </tr>\n",
       "    <tr>\n",
       "      <td>2</td>\n",
       "      <td>1</td>\n",
       "      <td>79</td>\n",
       "      <td>-1</td>\n",
       "    </tr>\n",
       "    <tr>\n",
       "      <td>3</td>\n",
       "      <td>1</td>\n",
       "      <td>226</td>\n",
       "      <td>-1</td>\n",
       "    </tr>\n",
       "    <tr>\n",
       "      <td>4</td>\n",
       "      <td>1</td>\n",
       "      <td>241</td>\n",
       "      <td>-1</td>\n",
       "    </tr>\n",
       "  </tbody>\n",
       "</table>\n",
       "</div>"
      ],
      "text/plain": [
       "   user_id  anime_id  User_rating\n",
       "0        1        20           -1\n",
       "1        1        24           -1\n",
       "2        1        79           -1\n",
       "3        1       226           -1\n",
       "4        1       241           -1"
      ]
     },
     "execution_count": 13,
     "metadata": {},
     "output_type": "execute_result"
    }
   ],
   "source": [
    "#-1 in rating indicates that users watched the show but didn't rate the show also rename rating column to rating of the user\n",
    "rating.rename(columns={\"rating\":\"User_rating\"},inplace=True)\n",
    "rating.head()"
   ]
  },
  {
   "cell_type": "code",
   "execution_count": 14,
   "metadata": {},
   "outputs": [
    {
     "data": {
      "text/html": [
       "<div>\n",
       "<style scoped>\n",
       "    .dataframe tbody tr th:only-of-type {\n",
       "        vertical-align: middle;\n",
       "    }\n",
       "\n",
       "    .dataframe tbody tr th {\n",
       "        vertical-align: top;\n",
       "    }\n",
       "\n",
       "    .dataframe thead th {\n",
       "        text-align: right;\n",
       "    }\n",
       "</style>\n",
       "<table border=\"1\" class=\"dataframe\">\n",
       "  <thead>\n",
       "    <tr style=\"text-align: right;\">\n",
       "      <th></th>\n",
       "      <th>user_id</th>\n",
       "      <th>anime_id</th>\n",
       "      <th>User_rating</th>\n",
       "    </tr>\n",
       "  </thead>\n",
       "  <tbody>\n",
       "    <tr>\n",
       "      <td>0</td>\n",
       "      <td>1</td>\n",
       "      <td>20</td>\n",
       "      <td>NaN</td>\n",
       "    </tr>\n",
       "    <tr>\n",
       "      <td>1</td>\n",
       "      <td>1</td>\n",
       "      <td>24</td>\n",
       "      <td>NaN</td>\n",
       "    </tr>\n",
       "    <tr>\n",
       "      <td>2</td>\n",
       "      <td>1</td>\n",
       "      <td>79</td>\n",
       "      <td>NaN</td>\n",
       "    </tr>\n",
       "    <tr>\n",
       "      <td>3</td>\n",
       "      <td>1</td>\n",
       "      <td>226</td>\n",
       "      <td>NaN</td>\n",
       "    </tr>\n",
       "    <tr>\n",
       "      <td>4</td>\n",
       "      <td>1</td>\n",
       "      <td>241</td>\n",
       "      <td>NaN</td>\n",
       "    </tr>\n",
       "  </tbody>\n",
       "</table>\n",
       "</div>"
      ],
      "text/plain": [
       "   user_id  anime_id  User_rating\n",
       "0        1        20          NaN\n",
       "1        1        24          NaN\n",
       "2        1        79          NaN\n",
       "3        1       226          NaN\n",
       "4        1       241          NaN"
      ]
     },
     "execution_count": 14,
     "metadata": {},
     "output_type": "execute_result"
    }
   ],
   "source": [
    "rating['User_rating'] = rating['User_rating'].replace(-1,np.nan)\n",
    "rating.head()"
   ]
  },
  {
   "cell_type": "code",
   "execution_count": 15,
   "metadata": {},
   "outputs": [
    {
     "data": {
      "text/plain": [
       "user_id              0\n",
       "anime_id             0\n",
       "User_rating    1476496\n",
       "dtype: int64"
      ]
     },
     "execution_count": 15,
     "metadata": {},
     "output_type": "execute_result"
    }
   ],
   "source": [
    "rating.shape\n",
    "rating.isna().sum()"
   ]
  },
  {
   "cell_type": "code",
   "execution_count": 16,
   "metadata": {},
   "outputs": [
    {
     "data": {
      "text/plain": [
       "(6337241, 3)"
      ]
     },
     "execution_count": 16,
     "metadata": {},
     "output_type": "execute_result"
    }
   ],
   "source": [
    "#drop the rows where users didnt give any ratings\n",
    "rating = rating.dropna()\n",
    "rating.shape"
   ]
  },
  {
   "cell_type": "code",
   "execution_count": 17,
   "metadata": {
    "scrolled": true
   },
   "outputs": [
    {
     "data": {
      "text/html": [
       "<div>\n",
       "<style scoped>\n",
       "    .dataframe tbody tr th:only-of-type {\n",
       "        vertical-align: middle;\n",
       "    }\n",
       "\n",
       "    .dataframe tbody tr th {\n",
       "        vertical-align: top;\n",
       "    }\n",
       "\n",
       "    .dataframe thead th {\n",
       "        text-align: right;\n",
       "    }\n",
       "</style>\n",
       "<table border=\"1\" class=\"dataframe\">\n",
       "  <thead>\n",
       "    <tr style=\"text-align: right;\">\n",
       "      <th></th>\n",
       "      <th>user_id</th>\n",
       "      <th>anime_id</th>\n",
       "      <th>User_rating</th>\n",
       "    </tr>\n",
       "  </thead>\n",
       "  <tbody>\n",
       "    <tr>\n",
       "      <td>47</td>\n",
       "      <td>1</td>\n",
       "      <td>8074</td>\n",
       "      <td>10.0</td>\n",
       "    </tr>\n",
       "    <tr>\n",
       "      <td>81</td>\n",
       "      <td>1</td>\n",
       "      <td>11617</td>\n",
       "      <td>10.0</td>\n",
       "    </tr>\n",
       "    <tr>\n",
       "      <td>83</td>\n",
       "      <td>1</td>\n",
       "      <td>11757</td>\n",
       "      <td>10.0</td>\n",
       "    </tr>\n",
       "    <tr>\n",
       "      <td>101</td>\n",
       "      <td>1</td>\n",
       "      <td>15451</td>\n",
       "      <td>10.0</td>\n",
       "    </tr>\n",
       "    <tr>\n",
       "      <td>153</td>\n",
       "      <td>2</td>\n",
       "      <td>11771</td>\n",
       "      <td>10.0</td>\n",
       "    </tr>\n",
       "  </tbody>\n",
       "</table>\n",
       "</div>"
      ],
      "text/plain": [
       "     user_id  anime_id  User_rating\n",
       "47         1      8074         10.0\n",
       "81         1     11617         10.0\n",
       "83         1     11757         10.0\n",
       "101        1     15451         10.0\n",
       "153        2     11771         10.0"
      ]
     },
     "execution_count": 17,
     "metadata": {},
     "output_type": "execute_result"
    }
   ],
   "source": [
    "rating.head()"
   ]
  },
  {
   "cell_type": "markdown",
   "metadata": {},
   "source": [
    "#### Defining the definition of like by calculating mean of rating"
   ]
  },
  {
   "cell_type": "code",
   "execution_count": 18,
   "metadata": {},
   "outputs": [
    {
     "data": {
      "text/html": [
       "<div>\n",
       "<style scoped>\n",
       "    .dataframe tbody tr th:only-of-type {\n",
       "        vertical-align: middle;\n",
       "    }\n",
       "\n",
       "    .dataframe tbody tr th {\n",
       "        vertical-align: top;\n",
       "    }\n",
       "\n",
       "    .dataframe thead th {\n",
       "        text-align: right;\n",
       "    }\n",
       "</style>\n",
       "<table border=\"1\" class=\"dataframe\">\n",
       "  <thead>\n",
       "    <tr style=\"text-align: right;\">\n",
       "      <th></th>\n",
       "      <th>user_id</th>\n",
       "      <th>Mean_rating</th>\n",
       "    </tr>\n",
       "  </thead>\n",
       "  <tbody>\n",
       "    <tr>\n",
       "      <td>0</td>\n",
       "      <td>1</td>\n",
       "      <td>10.000000</td>\n",
       "    </tr>\n",
       "    <tr>\n",
       "      <td>1</td>\n",
       "      <td>2</td>\n",
       "      <td>10.000000</td>\n",
       "    </tr>\n",
       "    <tr>\n",
       "      <td>2</td>\n",
       "      <td>3</td>\n",
       "      <td>7.565217</td>\n",
       "    </tr>\n",
       "    <tr>\n",
       "      <td>3</td>\n",
       "      <td>5</td>\n",
       "      <td>4.355120</td>\n",
       "    </tr>\n",
       "    <tr>\n",
       "      <td>4</td>\n",
       "      <td>7</td>\n",
       "      <td>7.387755</td>\n",
       "    </tr>\n",
       "    <tr>\n",
       "      <td>...</td>\n",
       "      <td>...</td>\n",
       "      <td>...</td>\n",
       "    </tr>\n",
       "    <tr>\n",
       "      <td>69595</td>\n",
       "      <td>73512</td>\n",
       "      <td>8.583333</td>\n",
       "    </tr>\n",
       "    <tr>\n",
       "      <td>69596</td>\n",
       "      <td>73513</td>\n",
       "      <td>7.515152</td>\n",
       "    </tr>\n",
       "    <tr>\n",
       "      <td>69597</td>\n",
       "      <td>73514</td>\n",
       "      <td>10.000000</td>\n",
       "    </tr>\n",
       "    <tr>\n",
       "      <td>69598</td>\n",
       "      <td>73515</td>\n",
       "      <td>8.547486</td>\n",
       "    </tr>\n",
       "    <tr>\n",
       "      <td>69599</td>\n",
       "      <td>73516</td>\n",
       "      <td>9.000000</td>\n",
       "    </tr>\n",
       "  </tbody>\n",
       "</table>\n",
       "<p>69600 rows × 2 columns</p>\n",
       "</div>"
      ],
      "text/plain": [
       "       user_id  Mean_rating\n",
       "0            1    10.000000\n",
       "1            2    10.000000\n",
       "2            3     7.565217\n",
       "3            5     4.355120\n",
       "4            7     7.387755\n",
       "...        ...          ...\n",
       "69595    73512     8.583333\n",
       "69596    73513     7.515152\n",
       "69597    73514    10.000000\n",
       "69598    73515     8.547486\n",
       "69599    73516     9.000000\n",
       "\n",
       "[69600 rows x 2 columns]"
      ]
     },
     "execution_count": 18,
     "metadata": {},
     "output_type": "execute_result"
    }
   ],
   "source": [
    "mrpu = rating.groupby('user_id').mean().reset_index()\n",
    "mrpu.drop('anime_id',axis=1,inplace=True)\n",
    "mrpu.rename(columns={'User_rating':'Mean_rating'},inplace=True)\n",
    "mrpu"
   ]
  },
  {
   "cell_type": "code",
   "execution_count": 19,
   "metadata": {},
   "outputs": [
    {
     "data": {
      "text/html": [
       "<div>\n",
       "<style scoped>\n",
       "    .dataframe tbody tr th:only-of-type {\n",
       "        vertical-align: middle;\n",
       "    }\n",
       "\n",
       "    .dataframe tbody tr th {\n",
       "        vertical-align: top;\n",
       "    }\n",
       "\n",
       "    .dataframe thead th {\n",
       "        text-align: right;\n",
       "    }\n",
       "</style>\n",
       "<table border=\"1\" class=\"dataframe\">\n",
       "  <thead>\n",
       "    <tr style=\"text-align: right;\">\n",
       "      <th></th>\n",
       "      <th>user_id</th>\n",
       "      <th>Mean_rating</th>\n",
       "      <th>Num_mvs_rated</th>\n",
       "    </tr>\n",
       "  </thead>\n",
       "  <tbody>\n",
       "    <tr>\n",
       "      <td>0</td>\n",
       "      <td>1</td>\n",
       "      <td>10.000000</td>\n",
       "      <td>4</td>\n",
       "    </tr>\n",
       "    <tr>\n",
       "      <td>1</td>\n",
       "      <td>2</td>\n",
       "      <td>10.000000</td>\n",
       "      <td>1</td>\n",
       "    </tr>\n",
       "    <tr>\n",
       "      <td>2</td>\n",
       "      <td>3</td>\n",
       "      <td>7.565217</td>\n",
       "      <td>92</td>\n",
       "    </tr>\n",
       "    <tr>\n",
       "      <td>3</td>\n",
       "      <td>5</td>\n",
       "      <td>4.355120</td>\n",
       "      <td>459</td>\n",
       "    </tr>\n",
       "    <tr>\n",
       "      <td>4</td>\n",
       "      <td>7</td>\n",
       "      <td>7.387755</td>\n",
       "      <td>343</td>\n",
       "    </tr>\n",
       "    <tr>\n",
       "      <td>...</td>\n",
       "      <td>...</td>\n",
       "      <td>...</td>\n",
       "      <td>...</td>\n",
       "    </tr>\n",
       "    <tr>\n",
       "      <td>69595</td>\n",
       "      <td>73512</td>\n",
       "      <td>8.583333</td>\n",
       "      <td>12</td>\n",
       "    </tr>\n",
       "    <tr>\n",
       "      <td>69596</td>\n",
       "      <td>73513</td>\n",
       "      <td>7.515152</td>\n",
       "      <td>33</td>\n",
       "    </tr>\n",
       "    <tr>\n",
       "      <td>69597</td>\n",
       "      <td>73514</td>\n",
       "      <td>10.000000</td>\n",
       "      <td>1</td>\n",
       "    </tr>\n",
       "    <tr>\n",
       "      <td>69598</td>\n",
       "      <td>73515</td>\n",
       "      <td>8.547486</td>\n",
       "      <td>179</td>\n",
       "    </tr>\n",
       "    <tr>\n",
       "      <td>69599</td>\n",
       "      <td>73516</td>\n",
       "      <td>9.000000</td>\n",
       "      <td>2</td>\n",
       "    </tr>\n",
       "  </tbody>\n",
       "</table>\n",
       "<p>69600 rows × 3 columns</p>\n",
       "</div>"
      ],
      "text/plain": [
       "       user_id  Mean_rating  Num_mvs_rated\n",
       "0            1    10.000000              4\n",
       "1            2    10.000000              1\n",
       "2            3     7.565217             92\n",
       "3            5     4.355120            459\n",
       "4            7     7.387755            343\n",
       "...        ...          ...            ...\n",
       "69595    73512     8.583333             12\n",
       "69596    73513     7.515152             33\n",
       "69597    73514    10.000000              1\n",
       "69598    73515     8.547486            179\n",
       "69599    73516     9.000000              2\n",
       "\n",
       "[69600 rows x 3 columns]"
      ]
     },
     "execution_count": 19,
     "metadata": {},
     "output_type": "execute_result"
    }
   ],
   "source": [
    "cpu = rating.groupby('user_id').count().reset_index()\n",
    "cpu.drop('anime_id',axis=1,inplace=True)\n",
    "cpu.rename(columns={'User_rating':'Num_mvs_rated'},inplace=True)\n",
    "mrpu = pd.merge(mrpu,cpu,on=['user_id','user_id'])\n",
    "mrpu"
   ]
  },
  {
   "cell_type": "code",
   "execution_count": 20,
   "metadata": {},
   "outputs": [],
   "source": [
    "rating = pd.merge(rating,mrpu,on=['user_id','user_id'])"
   ]
  },
  {
   "cell_type": "code",
   "execution_count": 21,
   "metadata": {},
   "outputs": [
    {
     "data": {
      "text/html": [
       "<div>\n",
       "<style scoped>\n",
       "    .dataframe tbody tr th:only-of-type {\n",
       "        vertical-align: middle;\n",
       "    }\n",
       "\n",
       "    .dataframe tbody tr th {\n",
       "        vertical-align: top;\n",
       "    }\n",
       "\n",
       "    .dataframe thead th {\n",
       "        text-align: right;\n",
       "    }\n",
       "</style>\n",
       "<table border=\"1\" class=\"dataframe\">\n",
       "  <thead>\n",
       "    <tr style=\"text-align: right;\">\n",
       "      <th></th>\n",
       "      <th>user_id</th>\n",
       "      <th>anime_id</th>\n",
       "      <th>User_rating</th>\n",
       "      <th>Mean_rating</th>\n",
       "      <th>Num_mvs_rated</th>\n",
       "    </tr>\n",
       "  </thead>\n",
       "  <tbody>\n",
       "    <tr>\n",
       "      <td>0</td>\n",
       "      <td>1</td>\n",
       "      <td>8074</td>\n",
       "      <td>10.0</td>\n",
       "      <td>10.000000</td>\n",
       "      <td>4</td>\n",
       "    </tr>\n",
       "    <tr>\n",
       "      <td>1</td>\n",
       "      <td>1</td>\n",
       "      <td>11617</td>\n",
       "      <td>10.0</td>\n",
       "      <td>10.000000</td>\n",
       "      <td>4</td>\n",
       "    </tr>\n",
       "    <tr>\n",
       "      <td>2</td>\n",
       "      <td>1</td>\n",
       "      <td>11757</td>\n",
       "      <td>10.0</td>\n",
       "      <td>10.000000</td>\n",
       "      <td>4</td>\n",
       "    </tr>\n",
       "    <tr>\n",
       "      <td>3</td>\n",
       "      <td>1</td>\n",
       "      <td>15451</td>\n",
       "      <td>10.0</td>\n",
       "      <td>10.000000</td>\n",
       "      <td>4</td>\n",
       "    </tr>\n",
       "    <tr>\n",
       "      <td>4</td>\n",
       "      <td>2</td>\n",
       "      <td>11771</td>\n",
       "      <td>10.0</td>\n",
       "      <td>10.000000</td>\n",
       "      <td>1</td>\n",
       "    </tr>\n",
       "    <tr>\n",
       "      <td>5</td>\n",
       "      <td>3</td>\n",
       "      <td>20</td>\n",
       "      <td>8.0</td>\n",
       "      <td>7.565217</td>\n",
       "      <td>92</td>\n",
       "    </tr>\n",
       "    <tr>\n",
       "      <td>6</td>\n",
       "      <td>3</td>\n",
       "      <td>154</td>\n",
       "      <td>6.0</td>\n",
       "      <td>7.565217</td>\n",
       "      <td>92</td>\n",
       "    </tr>\n",
       "    <tr>\n",
       "      <td>7</td>\n",
       "      <td>3</td>\n",
       "      <td>170</td>\n",
       "      <td>9.0</td>\n",
       "      <td>7.565217</td>\n",
       "      <td>92</td>\n",
       "    </tr>\n",
       "    <tr>\n",
       "      <td>8</td>\n",
       "      <td>3</td>\n",
       "      <td>199</td>\n",
       "      <td>10.0</td>\n",
       "      <td>7.565217</td>\n",
       "      <td>92</td>\n",
       "    </tr>\n",
       "    <tr>\n",
       "      <td>9</td>\n",
       "      <td>3</td>\n",
       "      <td>225</td>\n",
       "      <td>9.0</td>\n",
       "      <td>7.565217</td>\n",
       "      <td>92</td>\n",
       "    </tr>\n",
       "    <tr>\n",
       "      <td>10</td>\n",
       "      <td>3</td>\n",
       "      <td>341</td>\n",
       "      <td>6.0</td>\n",
       "      <td>7.565217</td>\n",
       "      <td>92</td>\n",
       "    </tr>\n",
       "    <tr>\n",
       "      <td>11</td>\n",
       "      <td>3</td>\n",
       "      <td>430</td>\n",
       "      <td>7.0</td>\n",
       "      <td>7.565217</td>\n",
       "      <td>92</td>\n",
       "    </tr>\n",
       "    <tr>\n",
       "      <td>12</td>\n",
       "      <td>3</td>\n",
       "      <td>527</td>\n",
       "      <td>7.0</td>\n",
       "      <td>7.565217</td>\n",
       "      <td>92</td>\n",
       "    </tr>\n",
       "    <tr>\n",
       "      <td>13</td>\n",
       "      <td>3</td>\n",
       "      <td>552</td>\n",
       "      <td>7.0</td>\n",
       "      <td>7.565217</td>\n",
       "      <td>92</td>\n",
       "    </tr>\n",
       "    <tr>\n",
       "      <td>14</td>\n",
       "      <td>3</td>\n",
       "      <td>813</td>\n",
       "      <td>10.0</td>\n",
       "      <td>7.565217</td>\n",
       "      <td>92</td>\n",
       "    </tr>\n",
       "    <tr>\n",
       "      <td>15</td>\n",
       "      <td>3</td>\n",
       "      <td>1119</td>\n",
       "      <td>7.0</td>\n",
       "      <td>7.565217</td>\n",
       "      <td>92</td>\n",
       "    </tr>\n",
       "    <tr>\n",
       "      <td>16</td>\n",
       "      <td>3</td>\n",
       "      <td>1121</td>\n",
       "      <td>7.0</td>\n",
       "      <td>7.565217</td>\n",
       "      <td>92</td>\n",
       "    </tr>\n",
       "    <tr>\n",
       "      <td>17</td>\n",
       "      <td>3</td>\n",
       "      <td>1122</td>\n",
       "      <td>7.0</td>\n",
       "      <td>7.565217</td>\n",
       "      <td>92</td>\n",
       "    </tr>\n",
       "    <tr>\n",
       "      <td>18</td>\n",
       "      <td>3</td>\n",
       "      <td>1132</td>\n",
       "      <td>8.0</td>\n",
       "      <td>7.565217</td>\n",
       "      <td>92</td>\n",
       "    </tr>\n",
       "    <tr>\n",
       "      <td>19</td>\n",
       "      <td>3</td>\n",
       "      <td>1292</td>\n",
       "      <td>6.0</td>\n",
       "      <td>7.565217</td>\n",
       "      <td>92</td>\n",
       "    </tr>\n",
       "  </tbody>\n",
       "</table>\n",
       "</div>"
      ],
      "text/plain": [
       "    user_id  anime_id  User_rating  Mean_rating  Num_mvs_rated\n",
       "0         1      8074         10.0    10.000000              4\n",
       "1         1     11617         10.0    10.000000              4\n",
       "2         1     11757         10.0    10.000000              4\n",
       "3         1     15451         10.0    10.000000              4\n",
       "4         2     11771         10.0    10.000000              1\n",
       "5         3        20          8.0     7.565217             92\n",
       "6         3       154          6.0     7.565217             92\n",
       "7         3       170          9.0     7.565217             92\n",
       "8         3       199         10.0     7.565217             92\n",
       "9         3       225          9.0     7.565217             92\n",
       "10        3       341          6.0     7.565217             92\n",
       "11        3       430          7.0     7.565217             92\n",
       "12        3       527          7.0     7.565217             92\n",
       "13        3       552          7.0     7.565217             92\n",
       "14        3       813         10.0     7.565217             92\n",
       "15        3      1119          7.0     7.565217             92\n",
       "16        3      1121          7.0     7.565217             92\n",
       "17        3      1122          7.0     7.565217             92\n",
       "18        3      1132          8.0     7.565217             92\n",
       "19        3      1292          6.0     7.565217             92"
      ]
     },
     "execution_count": 21,
     "metadata": {},
     "output_type": "execute_result"
    }
   ],
   "source": [
    "rating.head(20)"
   ]
  },
  {
   "cell_type": "code",
   "execution_count": 22,
   "metadata": {},
   "outputs": [
    {
     "data": {
      "text/plain": [
       "(6337241, 5)"
      ]
     },
     "execution_count": 22,
     "metadata": {},
     "output_type": "execute_result"
    }
   ],
   "source": [
    "rating.shape"
   ]
  },
  {
   "cell_type": "code",
   "execution_count": 23,
   "metadata": {},
   "outputs": [
    {
     "data": {
      "text/html": [
       "<div>\n",
       "<style scoped>\n",
       "    .dataframe tbody tr th:only-of-type {\n",
       "        vertical-align: middle;\n",
       "    }\n",
       "\n",
       "    .dataframe tbody tr th {\n",
       "        vertical-align: top;\n",
       "    }\n",
       "\n",
       "    .dataframe thead th {\n",
       "        text-align: right;\n",
       "    }\n",
       "</style>\n",
       "<table border=\"1\" class=\"dataframe\">\n",
       "  <thead>\n",
       "    <tr style=\"text-align: right;\">\n",
       "      <th></th>\n",
       "      <th>user_id</th>\n",
       "      <th>anime_id</th>\n",
       "      <th>User_rating</th>\n",
       "      <th>Mean_rating</th>\n",
       "      <th>Num_mvs_rated</th>\n",
       "    </tr>\n",
       "  </thead>\n",
       "  <tbody>\n",
       "    <tr>\n",
       "      <td>0</td>\n",
       "      <td>1</td>\n",
       "      <td>8074</td>\n",
       "      <td>10.0</td>\n",
       "      <td>10.000000</td>\n",
       "      <td>4</td>\n",
       "    </tr>\n",
       "    <tr>\n",
       "      <td>1</td>\n",
       "      <td>1</td>\n",
       "      <td>11617</td>\n",
       "      <td>10.0</td>\n",
       "      <td>10.000000</td>\n",
       "      <td>4</td>\n",
       "    </tr>\n",
       "    <tr>\n",
       "      <td>2</td>\n",
       "      <td>1</td>\n",
       "      <td>11757</td>\n",
       "      <td>10.0</td>\n",
       "      <td>10.000000</td>\n",
       "      <td>4</td>\n",
       "    </tr>\n",
       "    <tr>\n",
       "      <td>3</td>\n",
       "      <td>1</td>\n",
       "      <td>15451</td>\n",
       "      <td>10.0</td>\n",
       "      <td>10.000000</td>\n",
       "      <td>4</td>\n",
       "    </tr>\n",
       "    <tr>\n",
       "      <td>4</td>\n",
       "      <td>2</td>\n",
       "      <td>11771</td>\n",
       "      <td>10.0</td>\n",
       "      <td>10.000000</td>\n",
       "      <td>1</td>\n",
       "    </tr>\n",
       "    <tr>\n",
       "      <td>5</td>\n",
       "      <td>3</td>\n",
       "      <td>20</td>\n",
       "      <td>8.0</td>\n",
       "      <td>7.565217</td>\n",
       "      <td>92</td>\n",
       "    </tr>\n",
       "    <tr>\n",
       "      <td>7</td>\n",
       "      <td>3</td>\n",
       "      <td>170</td>\n",
       "      <td>9.0</td>\n",
       "      <td>7.565217</td>\n",
       "      <td>92</td>\n",
       "    </tr>\n",
       "    <tr>\n",
       "      <td>8</td>\n",
       "      <td>3</td>\n",
       "      <td>199</td>\n",
       "      <td>10.0</td>\n",
       "      <td>7.565217</td>\n",
       "      <td>92</td>\n",
       "    </tr>\n",
       "    <tr>\n",
       "      <td>9</td>\n",
       "      <td>3</td>\n",
       "      <td>225</td>\n",
       "      <td>9.0</td>\n",
       "      <td>7.565217</td>\n",
       "      <td>92</td>\n",
       "    </tr>\n",
       "    <tr>\n",
       "      <td>14</td>\n",
       "      <td>3</td>\n",
       "      <td>813</td>\n",
       "      <td>10.0</td>\n",
       "      <td>7.565217</td>\n",
       "      <td>92</td>\n",
       "    </tr>\n",
       "    <tr>\n",
       "      <td>18</td>\n",
       "      <td>3</td>\n",
       "      <td>1132</td>\n",
       "      <td>8.0</td>\n",
       "      <td>7.565217</td>\n",
       "      <td>92</td>\n",
       "    </tr>\n",
       "    <tr>\n",
       "      <td>20</td>\n",
       "      <td>3</td>\n",
       "      <td>1313</td>\n",
       "      <td>8.0</td>\n",
       "      <td>7.565217</td>\n",
       "      <td>92</td>\n",
       "    </tr>\n",
       "    <tr>\n",
       "      <td>22</td>\n",
       "      <td>3</td>\n",
       "      <td>1535</td>\n",
       "      <td>10.0</td>\n",
       "      <td>7.565217</td>\n",
       "      <td>92</td>\n",
       "    </tr>\n",
       "    <tr>\n",
       "      <td>24</td>\n",
       "      <td>3</td>\n",
       "      <td>1689</td>\n",
       "      <td>8.0</td>\n",
       "      <td>7.565217</td>\n",
       "      <td>92</td>\n",
       "    </tr>\n",
       "    <tr>\n",
       "      <td>26</td>\n",
       "      <td>3</td>\n",
       "      <td>1943</td>\n",
       "      <td>8.0</td>\n",
       "      <td>7.565217</td>\n",
       "      <td>92</td>\n",
       "    </tr>\n",
       "    <tr>\n",
       "      <td>30</td>\n",
       "      <td>3</td>\n",
       "      <td>3588</td>\n",
       "      <td>8.0</td>\n",
       "      <td>7.565217</td>\n",
       "      <td>92</td>\n",
       "    </tr>\n",
       "    <tr>\n",
       "      <td>32</td>\n",
       "      <td>3</td>\n",
       "      <td>5114</td>\n",
       "      <td>10.0</td>\n",
       "      <td>7.565217</td>\n",
       "      <td>92</td>\n",
       "    </tr>\n",
       "    <tr>\n",
       "      <td>33</td>\n",
       "      <td>3</td>\n",
       "      <td>5231</td>\n",
       "      <td>8.0</td>\n",
       "      <td>7.565217</td>\n",
       "      <td>92</td>\n",
       "    </tr>\n",
       "    <tr>\n",
       "      <td>35</td>\n",
       "      <td>3</td>\n",
       "      <td>6702</td>\n",
       "      <td>8.0</td>\n",
       "      <td>7.565217</td>\n",
       "      <td>92</td>\n",
       "    </tr>\n",
       "    <tr>\n",
       "      <td>41</td>\n",
       "      <td>3</td>\n",
       "      <td>9760</td>\n",
       "      <td>9.0</td>\n",
       "      <td>7.565217</td>\n",
       "      <td>92</td>\n",
       "    </tr>\n",
       "  </tbody>\n",
       "</table>\n",
       "</div>"
      ],
      "text/plain": [
       "    user_id  anime_id  User_rating  Mean_rating  Num_mvs_rated\n",
       "0         1      8074         10.0    10.000000              4\n",
       "1         1     11617         10.0    10.000000              4\n",
       "2         1     11757         10.0    10.000000              4\n",
       "3         1     15451         10.0    10.000000              4\n",
       "4         2     11771         10.0    10.000000              1\n",
       "5         3        20          8.0     7.565217             92\n",
       "7         3       170          9.0     7.565217             92\n",
       "8         3       199         10.0     7.565217             92\n",
       "9         3       225          9.0     7.565217             92\n",
       "14        3       813         10.0     7.565217             92\n",
       "18        3      1132          8.0     7.565217             92\n",
       "20        3      1313          8.0     7.565217             92\n",
       "22        3      1535         10.0     7.565217             92\n",
       "24        3      1689          8.0     7.565217             92\n",
       "26        3      1943          8.0     7.565217             92\n",
       "30        3      3588          8.0     7.565217             92\n",
       "32        3      5114         10.0     7.565217             92\n",
       "33        3      5231          8.0     7.565217             92\n",
       "35        3      6702          8.0     7.565217             92\n",
       "41        3      9760          9.0     7.565217             92"
      ]
     },
     "execution_count": 23,
     "metadata": {},
     "output_type": "execute_result"
    }
   ],
   "source": [
    "#removing the shows the user didn't like and having num of movies rated <5\n",
    "rating = rating.drop(rating[rating['User_rating']<rating['Mean_rating']].index)\n",
    "rating.head(20)"
   ]
  },
  {
   "cell_type": "code",
   "execution_count": 24,
   "metadata": {},
   "outputs": [
    {
     "data": {
      "text/html": [
       "<div>\n",
       "<style scoped>\n",
       "    .dataframe tbody tr th:only-of-type {\n",
       "        vertical-align: middle;\n",
       "    }\n",
       "\n",
       "    .dataframe tbody tr th {\n",
       "        vertical-align: top;\n",
       "    }\n",
       "\n",
       "    .dataframe thead th {\n",
       "        text-align: right;\n",
       "    }\n",
       "</style>\n",
       "<table border=\"1\" class=\"dataframe\">\n",
       "  <thead>\n",
       "    <tr style=\"text-align: right;\">\n",
       "      <th></th>\n",
       "      <th>anime_id</th>\n",
       "      <th>name</th>\n",
       "      <th>genre</th>\n",
       "      <th>type</th>\n",
       "      <th>episodes</th>\n",
       "      <th>rating</th>\n",
       "      <th>members</th>\n",
       "      <th>user_id</th>\n",
       "      <th>User_rating</th>\n",
       "      <th>Mean_rating</th>\n",
       "      <th>Num_mvs_rated</th>\n",
       "    </tr>\n",
       "  </thead>\n",
       "  <tbody>\n",
       "    <tr>\n",
       "      <td>0</td>\n",
       "      <td>32281</td>\n",
       "      <td>Kimi no Na wa.</td>\n",
       "      <td>Drama, Romance, School, Supernatural</td>\n",
       "      <td>Movie</td>\n",
       "      <td>1.0</td>\n",
       "      <td>9.37</td>\n",
       "      <td>200630</td>\n",
       "      <td>152</td>\n",
       "      <td>10.0</td>\n",
       "      <td>7.760563</td>\n",
       "      <td>142</td>\n",
       "    </tr>\n",
       "    <tr>\n",
       "      <td>1</td>\n",
       "      <td>32281</td>\n",
       "      <td>Kimi no Na wa.</td>\n",
       "      <td>Drama, Romance, School, Supernatural</td>\n",
       "      <td>Movie</td>\n",
       "      <td>1.0</td>\n",
       "      <td>9.37</td>\n",
       "      <td>200630</td>\n",
       "      <td>244</td>\n",
       "      <td>10.0</td>\n",
       "      <td>8.800000</td>\n",
       "      <td>275</td>\n",
       "    </tr>\n",
       "    <tr>\n",
       "      <td>2</td>\n",
       "      <td>32281</td>\n",
       "      <td>Kimi no Na wa.</td>\n",
       "      <td>Drama, Romance, School, Supernatural</td>\n",
       "      <td>Movie</td>\n",
       "      <td>1.0</td>\n",
       "      <td>9.37</td>\n",
       "      <td>200630</td>\n",
       "      <td>271</td>\n",
       "      <td>10.0</td>\n",
       "      <td>7.372287</td>\n",
       "      <td>599</td>\n",
       "    </tr>\n",
       "    <tr>\n",
       "      <td>3</td>\n",
       "      <td>32281</td>\n",
       "      <td>Kimi no Na wa.</td>\n",
       "      <td>Drama, Romance, School, Supernatural</td>\n",
       "      <td>Movie</td>\n",
       "      <td>1.0</td>\n",
       "      <td>9.37</td>\n",
       "      <td>200630</td>\n",
       "      <td>322</td>\n",
       "      <td>10.0</td>\n",
       "      <td>8.356322</td>\n",
       "      <td>87</td>\n",
       "    </tr>\n",
       "    <tr>\n",
       "      <td>4</td>\n",
       "      <td>32281</td>\n",
       "      <td>Kimi no Na wa.</td>\n",
       "      <td>Drama, Romance, School, Supernatural</td>\n",
       "      <td>Movie</td>\n",
       "      <td>1.0</td>\n",
       "      <td>9.37</td>\n",
       "      <td>200630</td>\n",
       "      <td>398</td>\n",
       "      <td>10.0</td>\n",
       "      <td>8.000000</td>\n",
       "      <td>3</td>\n",
       "    </tr>\n",
       "  </tbody>\n",
       "</table>\n",
       "</div>"
      ],
      "text/plain": [
       "   anime_id            name                                 genre   type  \\\n",
       "0     32281  Kimi no Na wa.  Drama, Romance, School, Supernatural  Movie   \n",
       "1     32281  Kimi no Na wa.  Drama, Romance, School, Supernatural  Movie   \n",
       "2     32281  Kimi no Na wa.  Drama, Romance, School, Supernatural  Movie   \n",
       "3     32281  Kimi no Na wa.  Drama, Romance, School, Supernatural  Movie   \n",
       "4     32281  Kimi no Na wa.  Drama, Romance, School, Supernatural  Movie   \n",
       "\n",
       "   episodes  rating  members  user_id  User_rating  Mean_rating  Num_mvs_rated  \n",
       "0       1.0    9.37   200630      152         10.0     7.760563            142  \n",
       "1       1.0    9.37   200630      244         10.0     8.800000            275  \n",
       "2       1.0    9.37   200630      271         10.0     7.372287            599  \n",
       "3       1.0    9.37   200630      322         10.0     8.356322             87  \n",
       "4       1.0    9.37   200630      398         10.0     8.000000              3  "
      ]
     },
     "execution_count": 24,
     "metadata": {},
     "output_type": "execute_result"
    }
   ],
   "source": [
    "#combining the two datasets of anime and ratings\n",
    "total_data = pd.merge(anime,rating,on=['anime_id','anime_id'])\n",
    "total_data.head()"
   ]
  },
  {
   "cell_type": "code",
   "execution_count": 25,
   "metadata": {},
   "outputs": [
    {
     "data": {
      "text/plain": [
       "(3381039, 11)"
      ]
     },
     "execution_count": 25,
     "metadata": {},
     "output_type": "execute_result"
    }
   ],
   "source": [
    "total_data.shape"
   ]
  },
  {
   "cell_type": "code",
   "execution_count": 26,
   "metadata": {},
   "outputs": [
    {
     "data": {
      "text/plain": [
       "(452566, 11)"
      ]
     },
     "execution_count": 26,
     "metadata": {},
     "output_type": "execute_result"
    }
   ],
   "source": [
    "#Only 10000 user data is considered#\n",
    "total_data = total_data[total_data['user_id']<=10000]\n",
    "total_data.shape"
   ]
  },
  {
   "cell_type": "code",
   "execution_count": 27,
   "metadata": {},
   "outputs": [],
   "source": [
    "total_data.drop('rating',axis=1,inplace=True)"
   ]
  },
  {
   "cell_type": "code",
   "execution_count": 28,
   "metadata": {},
   "outputs": [
    {
     "data": {
      "text/plain": [
       "(452566, 10)"
      ]
     },
     "execution_count": 28,
     "metadata": {},
     "output_type": "execute_result"
    }
   ],
   "source": [
    "total_data.shape"
   ]
  },
  {
   "cell_type": "code",
   "execution_count": 29,
   "metadata": {},
   "outputs": [],
   "source": [
    "most_liked = total_data[['name','User_rating']]"
   ]
  },
  {
   "cell_type": "markdown",
   "metadata": {},
   "source": [
    "Finding total users who gave ratings to the movie"
   ]
  },
  {
   "cell_type": "code",
   "execution_count": 30,
   "metadata": {},
   "outputs": [
    {
     "data": {
      "text/html": [
       "<div>\n",
       "<style scoped>\n",
       "    .dataframe tbody tr th:only-of-type {\n",
       "        vertical-align: middle;\n",
       "    }\n",
       "\n",
       "    .dataframe tbody tr th {\n",
       "        vertical-align: top;\n",
       "    }\n",
       "\n",
       "    .dataframe thead th {\n",
       "        text-align: right;\n",
       "    }\n",
       "</style>\n",
       "<table border=\"1\" class=\"dataframe\">\n",
       "  <thead>\n",
       "    <tr style=\"text-align: right;\">\n",
       "      <th></th>\n",
       "      <th>name</th>\n",
       "      <th>Num_ratingmvie</th>\n",
       "    </tr>\n",
       "  </thead>\n",
       "  <tbody>\n",
       "    <tr>\n",
       "      <td>0</td>\n",
       "      <td>&amp;quot;Bungaku Shoujo&amp;quot; Kyou no Oyatsu: Hat...</td>\n",
       "      <td>44</td>\n",
       "    </tr>\n",
       "    <tr>\n",
       "      <td>1</td>\n",
       "      <td>&amp;quot;Bungaku Shoujo&amp;quot; Memoire</td>\n",
       "      <td>54</td>\n",
       "    </tr>\n",
       "    <tr>\n",
       "      <td>2</td>\n",
       "      <td>&amp;quot;Bungaku Shoujo&amp;quot; Movie</td>\n",
       "      <td>90</td>\n",
       "    </tr>\n",
       "    <tr>\n",
       "      <td>3</td>\n",
       "      <td>.hack//G.U. Returner</td>\n",
       "      <td>22</td>\n",
       "    </tr>\n",
       "    <tr>\n",
       "      <td>4</td>\n",
       "      <td>.hack//G.U. Trilogy</td>\n",
       "      <td>55</td>\n",
       "    </tr>\n",
       "    <tr>\n",
       "      <td>...</td>\n",
       "      <td>...</td>\n",
       "      <td>...</td>\n",
       "    </tr>\n",
       "    <tr>\n",
       "      <td>6404</td>\n",
       "      <td>xxxHOLiC</td>\n",
       "      <td>432</td>\n",
       "    </tr>\n",
       "    <tr>\n",
       "      <td>6405</td>\n",
       "      <td>xxxHOLiC Kei</td>\n",
       "      <td>316</td>\n",
       "    </tr>\n",
       "    <tr>\n",
       "      <td>6406</td>\n",
       "      <td>xxxHOLiC Movie: Manatsu no Yoru no Yume</td>\n",
       "      <td>192</td>\n",
       "    </tr>\n",
       "    <tr>\n",
       "      <td>6407</td>\n",
       "      <td>xxxHOLiC Rou</td>\n",
       "      <td>115</td>\n",
       "    </tr>\n",
       "    <tr>\n",
       "      <td>6408</td>\n",
       "      <td>xxxHOLiC Shunmuki</td>\n",
       "      <td>164</td>\n",
       "    </tr>\n",
       "  </tbody>\n",
       "</table>\n",
       "<p>6409 rows × 2 columns</p>\n",
       "</div>"
      ],
      "text/plain": [
       "                                                   name  Num_ratingmvie\n",
       "0     &quot;Bungaku Shoujo&quot; Kyou no Oyatsu: Hat...              44\n",
       "1                    &quot;Bungaku Shoujo&quot; Memoire              54\n",
       "2                      &quot;Bungaku Shoujo&quot; Movie              90\n",
       "3                                  .hack//G.U. Returner              22\n",
       "4                                   .hack//G.U. Trilogy              55\n",
       "...                                                 ...             ...\n",
       "6404                                           xxxHOLiC             432\n",
       "6405                                       xxxHOLiC Kei             316\n",
       "6406            xxxHOLiC Movie: Manatsu no Yoru no Yume             192\n",
       "6407                                       xxxHOLiC Rou             115\n",
       "6408                                  xxxHOLiC Shunmuki             164\n",
       "\n",
       "[6409 rows x 2 columns]"
      ]
     },
     "execution_count": 30,
     "metadata": {},
     "output_type": "execute_result"
    }
   ],
   "source": [
    "temp = most_liked.groupby('name').count().reset_index()\n",
    "temp = temp.rename(columns={\"User_rating\":\"Num_ratingmvie\"})\n",
    "temp"
   ]
  },
  {
   "cell_type": "markdown",
   "metadata": {},
   "source": [
    "Finding Average user rating given by the users per each movie"
   ]
  },
  {
   "cell_type": "code",
   "execution_count": 31,
   "metadata": {},
   "outputs": [
    {
     "data": {
      "text/html": [
       "<div>\n",
       "<style scoped>\n",
       "    .dataframe tbody tr th:only-of-type {\n",
       "        vertical-align: middle;\n",
       "    }\n",
       "\n",
       "    .dataframe tbody tr th {\n",
       "        vertical-align: top;\n",
       "    }\n",
       "\n",
       "    .dataframe thead th {\n",
       "        text-align: right;\n",
       "    }\n",
       "</style>\n",
       "<table border=\"1\" class=\"dataframe\">\n",
       "  <thead>\n",
       "    <tr style=\"text-align: right;\">\n",
       "      <th></th>\n",
       "      <th>name</th>\n",
       "      <th>Mean_rating_permovie</th>\n",
       "    </tr>\n",
       "  </thead>\n",
       "  <tbody>\n",
       "    <tr>\n",
       "      <td>0</td>\n",
       "      <td>&amp;quot;Bungaku Shoujo&amp;quot; Kyou no Oyatsu: Hat...</td>\n",
       "      <td>8.409091</td>\n",
       "    </tr>\n",
       "    <tr>\n",
       "      <td>1</td>\n",
       "      <td>&amp;quot;Bungaku Shoujo&amp;quot; Memoire</td>\n",
       "      <td>8.314815</td>\n",
       "    </tr>\n",
       "    <tr>\n",
       "      <td>2</td>\n",
       "      <td>&amp;quot;Bungaku Shoujo&amp;quot; Movie</td>\n",
       "      <td>8.555556</td>\n",
       "    </tr>\n",
       "    <tr>\n",
       "      <td>3</td>\n",
       "      <td>.hack//G.U. Returner</td>\n",
       "      <td>8.318182</td>\n",
       "    </tr>\n",
       "    <tr>\n",
       "      <td>4</td>\n",
       "      <td>.hack//G.U. Trilogy</td>\n",
       "      <td>8.563636</td>\n",
       "    </tr>\n",
       "    <tr>\n",
       "      <td>...</td>\n",
       "      <td>...</td>\n",
       "      <td>...</td>\n",
       "    </tr>\n",
       "    <tr>\n",
       "      <td>6404</td>\n",
       "      <td>xxxHOLiC</td>\n",
       "      <td>8.856481</td>\n",
       "    </tr>\n",
       "    <tr>\n",
       "      <td>6405</td>\n",
       "      <td>xxxHOLiC Kei</td>\n",
       "      <td>8.854430</td>\n",
       "    </tr>\n",
       "    <tr>\n",
       "      <td>6406</td>\n",
       "      <td>xxxHOLiC Movie: Manatsu no Yoru no Yume</td>\n",
       "      <td>8.666667</td>\n",
       "    </tr>\n",
       "    <tr>\n",
       "      <td>6407</td>\n",
       "      <td>xxxHOLiC Rou</td>\n",
       "      <td>8.704348</td>\n",
       "    </tr>\n",
       "    <tr>\n",
       "      <td>6408</td>\n",
       "      <td>xxxHOLiC Shunmuki</td>\n",
       "      <td>8.719512</td>\n",
       "    </tr>\n",
       "  </tbody>\n",
       "</table>\n",
       "<p>6409 rows × 2 columns</p>\n",
       "</div>"
      ],
      "text/plain": [
       "                                                   name  Mean_rating_permovie\n",
       "0     &quot;Bungaku Shoujo&quot; Kyou no Oyatsu: Hat...              8.409091\n",
       "1                    &quot;Bungaku Shoujo&quot; Memoire              8.314815\n",
       "2                      &quot;Bungaku Shoujo&quot; Movie              8.555556\n",
       "3                                  .hack//G.U. Returner              8.318182\n",
       "4                                   .hack//G.U. Trilogy              8.563636\n",
       "...                                                 ...                   ...\n",
       "6404                                           xxxHOLiC              8.856481\n",
       "6405                                       xxxHOLiC Kei              8.854430\n",
       "6406            xxxHOLiC Movie: Manatsu no Yoru no Yume              8.666667\n",
       "6407                                       xxxHOLiC Rou              8.704348\n",
       "6408                                  xxxHOLiC Shunmuki              8.719512\n",
       "\n",
       "[6409 rows x 2 columns]"
      ]
     },
     "execution_count": 31,
     "metadata": {},
     "output_type": "execute_result"
    }
   ],
   "source": [
    "temp1 = most_liked.groupby('name').mean().reset_index()\n",
    "temp1 = temp1.rename(columns={\"User_rating\":\"Mean_rating_permovie\"})\n",
    "temp1"
   ]
  },
  {
   "cell_type": "code",
   "execution_count": 32,
   "metadata": {},
   "outputs": [],
   "source": [
    "most_liked = pd.merge(temp,temp1,on=['name','name'])"
   ]
  },
  {
   "cell_type": "code",
   "execution_count": 33,
   "metadata": {},
   "outputs": [
    {
     "data": {
      "text/html": [
       "<div>\n",
       "<style scoped>\n",
       "    .dataframe tbody tr th:only-of-type {\n",
       "        vertical-align: middle;\n",
       "    }\n",
       "\n",
       "    .dataframe tbody tr th {\n",
       "        vertical-align: top;\n",
       "    }\n",
       "\n",
       "    .dataframe thead th {\n",
       "        text-align: right;\n",
       "    }\n",
       "</style>\n",
       "<table border=\"1\" class=\"dataframe\">\n",
       "  <thead>\n",
       "    <tr style=\"text-align: right;\">\n",
       "      <th></th>\n",
       "      <th>name</th>\n",
       "      <th>Num_ratingmvie</th>\n",
       "      <th>Mean_rating_permovie</th>\n",
       "    </tr>\n",
       "  </thead>\n",
       "  <tbody>\n",
       "    <tr>\n",
       "      <td>0</td>\n",
       "      <td>&amp;quot;Bungaku Shoujo&amp;quot; Kyou no Oyatsu: Hat...</td>\n",
       "      <td>44</td>\n",
       "      <td>8.409091</td>\n",
       "    </tr>\n",
       "    <tr>\n",
       "      <td>1</td>\n",
       "      <td>&amp;quot;Bungaku Shoujo&amp;quot; Memoire</td>\n",
       "      <td>54</td>\n",
       "      <td>8.314815</td>\n",
       "    </tr>\n",
       "    <tr>\n",
       "      <td>2</td>\n",
       "      <td>&amp;quot;Bungaku Shoujo&amp;quot; Movie</td>\n",
       "      <td>90</td>\n",
       "      <td>8.555556</td>\n",
       "    </tr>\n",
       "    <tr>\n",
       "      <td>3</td>\n",
       "      <td>.hack//G.U. Returner</td>\n",
       "      <td>22</td>\n",
       "      <td>8.318182</td>\n",
       "    </tr>\n",
       "    <tr>\n",
       "      <td>4</td>\n",
       "      <td>.hack//G.U. Trilogy</td>\n",
       "      <td>55</td>\n",
       "      <td>8.563636</td>\n",
       "    </tr>\n",
       "    <tr>\n",
       "      <td>...</td>\n",
       "      <td>...</td>\n",
       "      <td>...</td>\n",
       "      <td>...</td>\n",
       "    </tr>\n",
       "    <tr>\n",
       "      <td>6404</td>\n",
       "      <td>xxxHOLiC</td>\n",
       "      <td>432</td>\n",
       "      <td>8.856481</td>\n",
       "    </tr>\n",
       "    <tr>\n",
       "      <td>6405</td>\n",
       "      <td>xxxHOLiC Kei</td>\n",
       "      <td>316</td>\n",
       "      <td>8.854430</td>\n",
       "    </tr>\n",
       "    <tr>\n",
       "      <td>6406</td>\n",
       "      <td>xxxHOLiC Movie: Manatsu no Yoru no Yume</td>\n",
       "      <td>192</td>\n",
       "      <td>8.666667</td>\n",
       "    </tr>\n",
       "    <tr>\n",
       "      <td>6407</td>\n",
       "      <td>xxxHOLiC Rou</td>\n",
       "      <td>115</td>\n",
       "      <td>8.704348</td>\n",
       "    </tr>\n",
       "    <tr>\n",
       "      <td>6408</td>\n",
       "      <td>xxxHOLiC Shunmuki</td>\n",
       "      <td>164</td>\n",
       "      <td>8.719512</td>\n",
       "    </tr>\n",
       "  </tbody>\n",
       "</table>\n",
       "<p>6409 rows × 3 columns</p>\n",
       "</div>"
      ],
      "text/plain": [
       "                                                   name  Num_ratingmvie  \\\n",
       "0     &quot;Bungaku Shoujo&quot; Kyou no Oyatsu: Hat...              44   \n",
       "1                    &quot;Bungaku Shoujo&quot; Memoire              54   \n",
       "2                      &quot;Bungaku Shoujo&quot; Movie              90   \n",
       "3                                  .hack//G.U. Returner              22   \n",
       "4                                   .hack//G.U. Trilogy              55   \n",
       "...                                                 ...             ...   \n",
       "6404                                           xxxHOLiC             432   \n",
       "6405                                       xxxHOLiC Kei             316   \n",
       "6406            xxxHOLiC Movie: Manatsu no Yoru no Yume             192   \n",
       "6407                                       xxxHOLiC Rou             115   \n",
       "6408                                  xxxHOLiC Shunmuki             164   \n",
       "\n",
       "      Mean_rating_permovie  \n",
       "0                 8.409091  \n",
       "1                 8.314815  \n",
       "2                 8.555556  \n",
       "3                 8.318182  \n",
       "4                 8.563636  \n",
       "...                    ...  \n",
       "6404              8.856481  \n",
       "6405              8.854430  \n",
       "6406              8.666667  \n",
       "6407              8.704348  \n",
       "6408              8.719512  \n",
       "\n",
       "[6409 rows x 3 columns]"
      ]
     },
     "execution_count": 33,
     "metadata": {},
     "output_type": "execute_result"
    }
   ],
   "source": [
    "most_liked"
   ]
  },
  {
   "cell_type": "code",
   "execution_count": 34,
   "metadata": {},
   "outputs": [],
   "source": [
    "most_liked = most_liked.sort_values(['Num_ratingmvie','Mean_rating_permovie'],ascending=[False,False])"
   ]
  },
  {
   "cell_type": "code",
   "execution_count": 35,
   "metadata": {},
   "outputs": [
    {
     "data": {
      "text/html": [
       "<div>\n",
       "<style scoped>\n",
       "    .dataframe tbody tr th:only-of-type {\n",
       "        vertical-align: middle;\n",
       "    }\n",
       "\n",
       "    .dataframe tbody tr th {\n",
       "        vertical-align: top;\n",
       "    }\n",
       "\n",
       "    .dataframe thead th {\n",
       "        text-align: right;\n",
       "    }\n",
       "</style>\n",
       "<table border=\"1\" class=\"dataframe\">\n",
       "  <thead>\n",
       "    <tr style=\"text-align: right;\">\n",
       "      <th></th>\n",
       "      <th>name</th>\n",
       "      <th>Num_ratingmvie</th>\n",
       "      <th>Mean_rating_permovie</th>\n",
       "    </tr>\n",
       "  </thead>\n",
       "  <tbody>\n",
       "    <tr>\n",
       "      <td>1124</td>\n",
       "      <td>Death Note</td>\n",
       "      <td>3708</td>\n",
       "      <td>9.271575</td>\n",
       "    </tr>\n",
       "    <tr>\n",
       "      <td>5137</td>\n",
       "      <td>Shingeki no Kyojin</td>\n",
       "      <td>2901</td>\n",
       "      <td>9.189590</td>\n",
       "    </tr>\n",
       "    <tr>\n",
       "      <td>938</td>\n",
       "      <td>Code Geass: Hangyaku no Lelouch</td>\n",
       "      <td>2823</td>\n",
       "      <td>9.267446</td>\n",
       "    </tr>\n",
       "    <tr>\n",
       "      <td>1604</td>\n",
       "      <td>Fullmetal Alchemist: Brotherhood</td>\n",
       "      <td>2613</td>\n",
       "      <td>9.498661</td>\n",
       "    </tr>\n",
       "    <tr>\n",
       "      <td>942</td>\n",
       "      <td>Code Geass: Hangyaku no Lelouch R2</td>\n",
       "      <td>2609</td>\n",
       "      <td>9.378689</td>\n",
       "    </tr>\n",
       "    <tr>\n",
       "      <td>5482</td>\n",
       "      <td>Sword Art Online</td>\n",
       "      <td>2181</td>\n",
       "      <td>9.145805</td>\n",
       "    </tr>\n",
       "    <tr>\n",
       "      <td>1603</td>\n",
       "      <td>Fullmetal Alchemist</td>\n",
       "      <td>2143</td>\n",
       "      <td>9.006066</td>\n",
       "    </tr>\n",
       "    <tr>\n",
       "      <td>4992</td>\n",
       "      <td>Sen to Chihiro no Kamikakushi</td>\n",
       "      <td>2139</td>\n",
       "      <td>9.297335</td>\n",
       "    </tr>\n",
       "    <tr>\n",
       "      <td>239</td>\n",
       "      <td>Angel Beats!</td>\n",
       "      <td>2104</td>\n",
       "      <td>9.082224</td>\n",
       "    </tr>\n",
       "    <tr>\n",
       "      <td>5827</td>\n",
       "      <td>Toradora!</td>\n",
       "      <td>2067</td>\n",
       "      <td>9.051282</td>\n",
       "    </tr>\n",
       "    <tr>\n",
       "      <td>5392</td>\n",
       "      <td>Steins;Gate</td>\n",
       "      <td>2039</td>\n",
       "      <td>9.428151</td>\n",
       "    </tr>\n",
       "    <tr>\n",
       "      <td>5624</td>\n",
       "      <td>Tengen Toppa Gurren Lagann</td>\n",
       "      <td>1933</td>\n",
       "      <td>9.282462</td>\n",
       "    </tr>\n",
       "    <tr>\n",
       "      <td>1459</td>\n",
       "      <td>Elfen Lied</td>\n",
       "      <td>1835</td>\n",
       "      <td>9.016894</td>\n",
       "    </tr>\n",
       "    <tr>\n",
       "      <td>915</td>\n",
       "      <td>Clannad: After Story</td>\n",
       "      <td>1763</td>\n",
       "      <td>9.478162</td>\n",
       "    </tr>\n",
       "    <tr>\n",
       "      <td>913</td>\n",
       "      <td>Clannad</td>\n",
       "      <td>1744</td>\n",
       "      <td>9.127867</td>\n",
       "    </tr>\n",
       "  </tbody>\n",
       "</table>\n",
       "</div>"
      ],
      "text/plain": [
       "                                    name  Num_ratingmvie  Mean_rating_permovie\n",
       "1124                          Death Note            3708              9.271575\n",
       "5137                  Shingeki no Kyojin            2901              9.189590\n",
       "938      Code Geass: Hangyaku no Lelouch            2823              9.267446\n",
       "1604    Fullmetal Alchemist: Brotherhood            2613              9.498661\n",
       "942   Code Geass: Hangyaku no Lelouch R2            2609              9.378689\n",
       "5482                    Sword Art Online            2181              9.145805\n",
       "1603                 Fullmetal Alchemist            2143              9.006066\n",
       "4992       Sen to Chihiro no Kamikakushi            2139              9.297335\n",
       "239                         Angel Beats!            2104              9.082224\n",
       "5827                           Toradora!            2067              9.051282\n",
       "5392                         Steins;Gate            2039              9.428151\n",
       "5624          Tengen Toppa Gurren Lagann            1933              9.282462\n",
       "1459                          Elfen Lied            1835              9.016894\n",
       "915                 Clannad: After Story            1763              9.478162\n",
       "913                              Clannad            1744              9.127867"
      ]
     },
     "execution_count": 35,
     "metadata": {},
     "output_type": "execute_result"
    }
   ],
   "source": [
    "most_liked.iloc[:15,:]"
   ]
  },
  {
   "cell_type": "code",
   "execution_count": 36,
   "metadata": {},
   "outputs": [
    {
     "data": {
      "text/plain": [
       "<matplotlib.axes._subplots.AxesSubplot at 0x1fa060cb1d0>"
      ]
     },
     "execution_count": 36,
     "metadata": {},
     "output_type": "execute_result"
    },
    {
     "data": {
      "image/png": "[encoded data removed]",
      "text/plain": [
       "<Figure size 432x288 with 1 Axes>"
      ]
     },
     "metadata": {
      "needs_background": "light"
     },
     "output_type": "display_data"
    }
   ],
   "source": [
    "most_liked.iloc[:15,:].plot.bar(x='name',y='Mean_rating_permovie')"
   ]
  },
  {
   "cell_type": "markdown",
   "metadata": {},
   "source": [
    "Type of show mostly liked"
   ]
  },
  {
   "cell_type": "code",
   "execution_count": 37,
   "metadata": {},
   "outputs": [
    {
     "data": {
      "text/html": [
       "<div>\n",
       "<style scoped>\n",
       "    .dataframe tbody tr th:only-of-type {\n",
       "        vertical-align: middle;\n",
       "    }\n",
       "\n",
       "    .dataframe tbody tr th {\n",
       "        vertical-align: top;\n",
       "    }\n",
       "\n",
       "    .dataframe thead th {\n",
       "        text-align: right;\n",
       "    }\n",
       "</style>\n",
       "<table border=\"1\" class=\"dataframe\">\n",
       "  <thead>\n",
       "    <tr style=\"text-align: right;\">\n",
       "      <th></th>\n",
       "      <th>type</th>\n",
       "      <th>Freq_of_animetype</th>\n",
       "    </tr>\n",
       "  </thead>\n",
       "  <tbody>\n",
       "    <tr>\n",
       "      <td>0</td>\n",
       "      <td>Movie</td>\n",
       "      <td>65840</td>\n",
       "    </tr>\n",
       "    <tr>\n",
       "      <td>1</td>\n",
       "      <td>Music</td>\n",
       "      <td>1180</td>\n",
       "    </tr>\n",
       "    <tr>\n",
       "      <td>2</td>\n",
       "      <td>ONA</td>\n",
       "      <td>3812</td>\n",
       "    </tr>\n",
       "    <tr>\n",
       "      <td>3</td>\n",
       "      <td>OVA</td>\n",
       "      <td>35992</td>\n",
       "    </tr>\n",
       "    <tr>\n",
       "      <td>4</td>\n",
       "      <td>Special</td>\n",
       "      <td>25327</td>\n",
       "    </tr>\n",
       "    <tr>\n",
       "      <td>5</td>\n",
       "      <td>TV</td>\n",
       "      <td>320415</td>\n",
       "    </tr>\n",
       "  </tbody>\n",
       "</table>\n",
       "</div>"
      ],
      "text/plain": [
       "      type  Freq_of_animetype\n",
       "0    Movie              65840\n",
       "1    Music               1180\n",
       "2      ONA               3812\n",
       "3      OVA              35992\n",
       "4  Special              25327\n",
       "5       TV             320415"
      ]
     },
     "execution_count": 37,
     "metadata": {},
     "output_type": "execute_result"
    }
   ],
   "source": [
    "type_liked = total_data.groupby('type').count()['Num_mvs_rated'].reset_index()\n",
    "type_liked = type_liked.rename(columns={'Num_mvs_rated':'Freq_of_animetype'})\n",
    "type_liked"
   ]
  },
  {
   "cell_type": "code",
   "execution_count": 38,
   "metadata": {},
   "outputs": [
    {
     "data": {
      "text/plain": [
       "<matplotlib.axes._subplots.AxesSubplot at 0x1fa4a6c5710>"
      ]
     },
     "execution_count": 38,
     "metadata": {},
     "output_type": "execute_result"
    },
    {
     "data": {
      "image/png": "[encoded data removed]",
      "text/plain": [
       "<Figure size 432x288 with 1 Axes>"
      ]
     },
     "metadata": {
      "needs_background": "light"
     },
     "output_type": "display_data"
    }
   ],
   "source": [
    "type_liked.plot.bar(x='type',y='Freq_of_animetype')"
   ]
  },
  {
   "cell_type": "markdown",
   "metadata": {},
   "source": [
    "Therefore the most liked type of the anime show is TV and movies stand next to it, but they both have a huge margin."
   ]
  },
  {
   "cell_type": "markdown",
   "metadata": {},
   "source": [
    "#### Clustering"
   ]
  },
  {
   "cell_type": "code",
   "execution_count": 39,
   "metadata": {},
   "outputs": [
    {
     "data": {
      "text/html": [
       "<div>\n",
       "<style scoped>\n",
       "    .dataframe tbody tr th:only-of-type {\n",
       "        vertical-align: middle;\n",
       "    }\n",
       "\n",
       "    .dataframe tbody tr th {\n",
       "        vertical-align: top;\n",
       "    }\n",
       "\n",
       "    .dataframe thead th {\n",
       "        text-align: right;\n",
       "    }\n",
       "</style>\n",
       "<table border=\"1\" class=\"dataframe\">\n",
       "  <thead>\n",
       "    <tr style=\"text-align: right;\">\n",
       "      <th></th>\n",
       "      <th>anime_id</th>\n",
       "      <th>name</th>\n",
       "      <th>genre</th>\n",
       "      <th>type</th>\n",
       "      <th>episodes</th>\n",
       "      <th>members</th>\n",
       "      <th>user_id</th>\n",
       "      <th>User_rating</th>\n",
       "      <th>Mean_rating</th>\n",
       "      <th>Num_mvs_rated</th>\n",
       "    </tr>\n",
       "  </thead>\n",
       "  <tbody>\n",
       "    <tr>\n",
       "      <td>0</td>\n",
       "      <td>32281</td>\n",
       "      <td>Kimi no Na wa.</td>\n",
       "      <td>Drama, Romance, School, Supernatural</td>\n",
       "      <td>Movie</td>\n",
       "      <td>1.0</td>\n",
       "      <td>200630</td>\n",
       "      <td>152</td>\n",
       "      <td>10.0</td>\n",
       "      <td>7.760563</td>\n",
       "      <td>142</td>\n",
       "    </tr>\n",
       "    <tr>\n",
       "      <td>1</td>\n",
       "      <td>32281</td>\n",
       "      <td>Kimi no Na wa.</td>\n",
       "      <td>Drama, Romance, School, Supernatural</td>\n",
       "      <td>Movie</td>\n",
       "      <td>1.0</td>\n",
       "      <td>200630</td>\n",
       "      <td>244</td>\n",
       "      <td>10.0</td>\n",
       "      <td>8.800000</td>\n",
       "      <td>275</td>\n",
       "    </tr>\n",
       "    <tr>\n",
       "      <td>2</td>\n",
       "      <td>32281</td>\n",
       "      <td>Kimi no Na wa.</td>\n",
       "      <td>Drama, Romance, School, Supernatural</td>\n",
       "      <td>Movie</td>\n",
       "      <td>1.0</td>\n",
       "      <td>200630</td>\n",
       "      <td>271</td>\n",
       "      <td>10.0</td>\n",
       "      <td>7.372287</td>\n",
       "      <td>599</td>\n",
       "    </tr>\n",
       "    <tr>\n",
       "      <td>3</td>\n",
       "      <td>32281</td>\n",
       "      <td>Kimi no Na wa.</td>\n",
       "      <td>Drama, Romance, School, Supernatural</td>\n",
       "      <td>Movie</td>\n",
       "      <td>1.0</td>\n",
       "      <td>200630</td>\n",
       "      <td>322</td>\n",
       "      <td>10.0</td>\n",
       "      <td>8.356322</td>\n",
       "      <td>87</td>\n",
       "    </tr>\n",
       "    <tr>\n",
       "      <td>4</td>\n",
       "      <td>32281</td>\n",
       "      <td>Kimi no Na wa.</td>\n",
       "      <td>Drama, Romance, School, Supernatural</td>\n",
       "      <td>Movie</td>\n",
       "      <td>1.0</td>\n",
       "      <td>200630</td>\n",
       "      <td>398</td>\n",
       "      <td>10.0</td>\n",
       "      <td>8.000000</td>\n",
       "      <td>3</td>\n",
       "    </tr>\n",
       "  </tbody>\n",
       "</table>\n",
       "</div>"
      ],
      "text/plain": [
       "   anime_id            name                                 genre   type  \\\n",
       "0     32281  Kimi no Na wa.  Drama, Romance, School, Supernatural  Movie   \n",
       "1     32281  Kimi no Na wa.  Drama, Romance, School, Supernatural  Movie   \n",
       "2     32281  Kimi no Na wa.  Drama, Romance, School, Supernatural  Movie   \n",
       "3     32281  Kimi no Na wa.  Drama, Romance, School, Supernatural  Movie   \n",
       "4     32281  Kimi no Na wa.  Drama, Romance, School, Supernatural  Movie   \n",
       "\n",
       "   episodes  members  user_id  User_rating  Mean_rating  Num_mvs_rated  \n",
       "0       1.0   200630      152         10.0     7.760563            142  \n",
       "1       1.0   200630      244         10.0     8.800000            275  \n",
       "2       1.0   200630      271         10.0     7.372287            599  \n",
       "3       1.0   200630      322         10.0     8.356322             87  \n",
       "4       1.0   200630      398         10.0     8.000000              3  "
      ]
     },
     "execution_count": 39,
     "metadata": {},
     "output_type": "execute_result"
    }
   ],
   "source": [
    "total_data.head()"
   ]
  },
  {
   "cell_type": "code",
   "execution_count": 52,
   "metadata": {},
   "outputs": [],
   "source": [
    "from sklearn.cluster import KMeans\n",
    "\n",
    "squared_error = []\n",
    "for i in range(2,10):\n",
    "    cluster = KMeans(n_clusters=i)\n",
    "    cluster.fit(total_data.iloc[:,[0,4,5,6,7,8,9]])\n",
    "    squared_error.append(cluster.inertia_)"
   ]
  },
  {
   "cell_type": "code",
   "execution_count": 72,
   "metadata": {},
   "outputs": [
    {
     "data": {
      "text/plain": [
       "Text(0, 0.5, 'Squared error')"
      ]
     },
     "execution_count": 72,
     "metadata": {},
     "output_type": "execute_result"
    },
    {
     "data": {
      "image/png": "[encoded data removed]",
      "text/plain": [
       "<Figure size 432x288 with 1 Axes>"
      ]
     },
     "metadata": {
      "needs_background": "light"
     },
     "output_type": "display_data"
    }
   ],
   "source": [
    "#Elbow curve\n",
    "plt.plot(range(2,10),squared_error,'-o')\n",
    "plt.xlabel('No. of clusters')\n",
    "plt.ylabel('Squared error')"
   ]
  },
  {
   "cell_type": "markdown",
   "metadata": {},
   "source": [
    "Therefore the optimal number of clusters are 5"
   ]
  },
  {
   "cell_type": "code",
   "execution_count": 74,
   "metadata": {},
   "outputs": [
    {
     "data": {
      "text/plain": [
       "KMeans(algorithm='auto', copy_x=True, init='k-means++', max_iter=300,\n",
       "    n_clusters=5, n_init=10, n_jobs=None, precompute_distances='auto',\n",
       "    random_state=None, tol=0.0001, verbose=0)"
      ]
     },
     "execution_count": 74,
     "metadata": {},
     "output_type": "execute_result"
    }
   ],
   "source": [
    "best_model = KMeans(n_clusters=5)\n",
    "best_model.fit(total_data.iloc[:,[0,4,5,6,7,8,9]])\n",
    "best_model"
   ]
  },
  {
   "cell_type": "code",
   "execution_count": 76,
   "metadata": {},
   "outputs": [],
   "source": [
    "predictions = best_model.predict(total_data.iloc[:,[0,4,5,6,7,8,9]])"
   ]
  },
  {
   "cell_type": "code",
   "execution_count": 77,
   "metadata": {},
   "outputs": [],
   "source": [
    "total_data['cluster'] = predictions"
   ]
  },
  {
   "cell_type": "code",
   "execution_count": 85,
   "metadata": {},
   "outputs": [
    {
     "data": {
      "text/html": [
       "<div>\n",
       "<style scoped>\n",
       "    .dataframe tbody tr th:only-of-type {\n",
       "        vertical-align: middle;\n",
       "    }\n",
       "\n",
       "    .dataframe tbody tr th {\n",
       "        vertical-align: top;\n",
       "    }\n",
       "\n",
       "    .dataframe thead th {\n",
       "        text-align: right;\n",
       "    }\n",
       "</style>\n",
       "<table border=\"1\" class=\"dataframe\">\n",
       "  <thead>\n",
       "    <tr style=\"text-align: right;\">\n",
       "      <th></th>\n",
       "      <th>anime_id</th>\n",
       "      <th>name</th>\n",
       "      <th>genre</th>\n",
       "      <th>type</th>\n",
       "      <th>episodes</th>\n",
       "      <th>members</th>\n",
       "      <th>user_id</th>\n",
       "      <th>User_rating</th>\n",
       "      <th>Mean_rating</th>\n",
       "      <th>Num_mvs_rated</th>\n",
       "      <th>cluster</th>\n",
       "    </tr>\n",
       "  </thead>\n",
       "  <tbody>\n",
       "    <tr>\n",
       "      <td>42507</td>\n",
       "      <td>11061</td>\n",
       "      <td>Hunter x Hunter (2011)</td>\n",
       "      <td>Action, Adventure, Shounen, Super Power</td>\n",
       "      <td>TV</td>\n",
       "      <td>148.0</td>\n",
       "      <td>425855</td>\n",
       "      <td>7</td>\n",
       "      <td>9.0</td>\n",
       "      <td>7.387755</td>\n",
       "      <td>343</td>\n",
       "      <td>4</td>\n",
       "    </tr>\n",
       "    <tr>\n",
       "      <td>42508</td>\n",
       "      <td>11061</td>\n",
       "      <td>Hunter x Hunter (2011)</td>\n",
       "      <td>Action, Adventure, Shounen, Super Power</td>\n",
       "      <td>TV</td>\n",
       "      <td>148.0</td>\n",
       "      <td>425855</td>\n",
       "      <td>38</td>\n",
       "      <td>10.0</td>\n",
       "      <td>6.703557</td>\n",
       "      <td>253</td>\n",
       "      <td>4</td>\n",
       "    </tr>\n",
       "    <tr>\n",
       "      <td>42509</td>\n",
       "      <td>11061</td>\n",
       "      <td>Hunter x Hunter (2011)</td>\n",
       "      <td>Action, Adventure, Shounen, Super Power</td>\n",
       "      <td>TV</td>\n",
       "      <td>148.0</td>\n",
       "      <td>425855</td>\n",
       "      <td>41</td>\n",
       "      <td>10.0</td>\n",
       "      <td>8.670588</td>\n",
       "      <td>85</td>\n",
       "      <td>4</td>\n",
       "    </tr>\n",
       "    <tr>\n",
       "      <td>42510</td>\n",
       "      <td>11061</td>\n",
       "      <td>Hunter x Hunter (2011)</td>\n",
       "      <td>Action, Adventure, Shounen, Super Power</td>\n",
       "      <td>TV</td>\n",
       "      <td>148.0</td>\n",
       "      <td>425855</td>\n",
       "      <td>50</td>\n",
       "      <td>10.0</td>\n",
       "      <td>7.944444</td>\n",
       "      <td>90</td>\n",
       "      <td>4</td>\n",
       "    </tr>\n",
       "    <tr>\n",
       "      <td>42511</td>\n",
       "      <td>11061</td>\n",
       "      <td>Hunter x Hunter (2011)</td>\n",
       "      <td>Action, Adventure, Shounen, Super Power</td>\n",
       "      <td>TV</td>\n",
       "      <td>148.0</td>\n",
       "      <td>425855</td>\n",
       "      <td>71</td>\n",
       "      <td>10.0</td>\n",
       "      <td>8.876712</td>\n",
       "      <td>73</td>\n",
       "      <td>4</td>\n",
       "    </tr>\n",
       "    <tr>\n",
       "      <td>...</td>\n",
       "      <td>...</td>\n",
       "      <td>...</td>\n",
       "      <td>...</td>\n",
       "      <td>...</td>\n",
       "      <td>...</td>\n",
       "      <td>...</td>\n",
       "      <td>...</td>\n",
       "      <td>...</td>\n",
       "      <td>...</td>\n",
       "      <td>...</td>\n",
       "      <td>...</td>\n",
       "    </tr>\n",
       "    <tr>\n",
       "      <td>3335999</td>\n",
       "      <td>2476</td>\n",
       "      <td>School Days</td>\n",
       "      <td>Drama, Harem, Romance, School</td>\n",
       "      <td>TV</td>\n",
       "      <td>12.0</td>\n",
       "      <td>279183</td>\n",
       "      <td>9487</td>\n",
       "      <td>8.0</td>\n",
       "      <td>7.881188</td>\n",
       "      <td>101</td>\n",
       "      <td>4</td>\n",
       "    </tr>\n",
       "    <tr>\n",
       "      <td>3336000</td>\n",
       "      <td>2476</td>\n",
       "      <td>School Days</td>\n",
       "      <td>Drama, Harem, Romance, School</td>\n",
       "      <td>TV</td>\n",
       "      <td>12.0</td>\n",
       "      <td>279183</td>\n",
       "      <td>9727</td>\n",
       "      <td>8.0</td>\n",
       "      <td>7.629630</td>\n",
       "      <td>135</td>\n",
       "      <td>4</td>\n",
       "    </tr>\n",
       "    <tr>\n",
       "      <td>3336001</td>\n",
       "      <td>2476</td>\n",
       "      <td>School Days</td>\n",
       "      <td>Drama, Harem, Romance, School</td>\n",
       "      <td>TV</td>\n",
       "      <td>12.0</td>\n",
       "      <td>279183</td>\n",
       "      <td>9750</td>\n",
       "      <td>9.0</td>\n",
       "      <td>7.747634</td>\n",
       "      <td>317</td>\n",
       "      <td>4</td>\n",
       "    </tr>\n",
       "    <tr>\n",
       "      <td>3336002</td>\n",
       "      <td>2476</td>\n",
       "      <td>School Days</td>\n",
       "      <td>Drama, Harem, Romance, School</td>\n",
       "      <td>TV</td>\n",
       "      <td>12.0</td>\n",
       "      <td>279183</td>\n",
       "      <td>9856</td>\n",
       "      <td>8.0</td>\n",
       "      <td>7.126374</td>\n",
       "      <td>182</td>\n",
       "      <td>4</td>\n",
       "    </tr>\n",
       "    <tr>\n",
       "      <td>3336003</td>\n",
       "      <td>2476</td>\n",
       "      <td>School Days</td>\n",
       "      <td>Drama, Harem, Romance, School</td>\n",
       "      <td>TV</td>\n",
       "      <td>12.0</td>\n",
       "      <td>279183</td>\n",
       "      <td>9926</td>\n",
       "      <td>10.0</td>\n",
       "      <td>8.888889</td>\n",
       "      <td>18</td>\n",
       "      <td>4</td>\n",
       "    </tr>\n",
       "  </tbody>\n",
       "</table>\n",
       "<p>78789 rows × 11 columns</p>\n",
       "</div>"
      ],
      "text/plain": [
       "         anime_id                    name  \\\n",
       "42507       11061  Hunter x Hunter (2011)   \n",
       "42508       11061  Hunter x Hunter (2011)   \n",
       "42509       11061  Hunter x Hunter (2011)   \n",
       "42510       11061  Hunter x Hunter (2011)   \n",
       "42511       11061  Hunter x Hunter (2011)   \n",
       "...           ...                     ...   \n",
       "3335999      2476             School Days   \n",
       "3336000      2476             School Days   \n",
       "3336001      2476             School Days   \n",
       "3336002      2476             School Days   \n",
       "3336003      2476             School Days   \n",
       "\n",
       "                                           genre type  episodes  members  \\\n",
       "42507    Action, Adventure, Shounen, Super Power   TV     148.0   425855   \n",
       "42508    Action, Adventure, Shounen, Super Power   TV     148.0   425855   \n",
       "42509    Action, Adventure, Shounen, Super Power   TV     148.0   425855   \n",
       "42510    Action, Adventure, Shounen, Super Power   TV     148.0   425855   \n",
       "42511    Action, Adventure, Shounen, Super Power   TV     148.0   425855   \n",
       "...                                          ...  ...       ...      ...   \n",
       "3335999            Drama, Harem, Romance, School   TV      12.0   279183   \n",
       "3336000            Drama, Harem, Romance, School   TV      12.0   279183   \n",
       "3336001            Drama, Harem, Romance, School   TV      12.0   279183   \n",
       "3336002            Drama, Harem, Romance, School   TV      12.0   279183   \n",
       "3336003            Drama, Harem, Romance, School   TV      12.0   279183   \n",
       "\n",
       "         user_id  User_rating  Mean_rating  Num_mvs_rated  cluster  \n",
       "42507          7          9.0     7.387755            343        4  \n",
       "42508         38         10.0     6.703557            253        4  \n",
       "42509         41         10.0     8.670588             85        4  \n",
       "42510         50         10.0     7.944444             90        4  \n",
       "42511         71         10.0     8.876712             73        4  \n",
       "...          ...          ...          ...            ...      ...  \n",
       "3335999     9487          8.0     7.881188            101        4  \n",
       "3336000     9727          8.0     7.629630            135        4  \n",
       "3336001     9750          9.0     7.747634            317        4  \n",
       "3336002     9856          8.0     7.126374            182        4  \n",
       "3336003     9926         10.0     8.888889             18        4  \n",
       "\n",
       "[78789 rows x 11 columns]"
      ]
     },
     "execution_count": 85,
     "metadata": {},
     "output_type": "execute_result"
    }
   ],
   "source": [
    "total_data[total_data['cluster']==4]"
   ]
  },
  {
   "cell_type": "code",
   "execution_count": 86,
   "metadata": {},
   "outputs": [
    {
     "data": {
      "text/plain": [
       "anime_id         0\n",
       "name             0\n",
       "genre            0\n",
       "type             0\n",
       "episodes         0\n",
       "members          0\n",
       "user_id          0\n",
       "User_rating      0\n",
       "Mean_rating      0\n",
       "Num_mvs_rated    0\n",
       "cluster          0\n",
       "dtype: int64"
      ]
     },
     "execution_count": 86,
     "metadata": {},
     "output_type": "execute_result"
    }
   ],
   "source": [
    "total_data.isna().sum()"
   ]
  },
  {
   "cell_type": "code",
   "execution_count": 108,
   "metadata": {},
   "outputs": [],
   "source": [
    "def clust_char(cluster):\n",
    "    clus = total_data[total_data['cluster']==cluster-1]\n",
    "    clus = clus.groupby('name').mean().reset_index()\n",
    "    clus = clus.drop(['anime_id','user_id','Mean_rating','cluster'],axis=1)\n",
    "    print('Cluster:',cluster)\n",
    "    print('Average Episodes:',clus['episodes'].mean())\n",
    "    print('Average members:',clus['members'].mean())\n",
    "    print('Average User Rating:',clus['User_rating'].mean())\n",
    "    print('Average Number of movies rated:',clus['Num_mvs_rated'].mean())"
   ]
  },
  {
   "cell_type": "markdown",
   "metadata": {},
   "source": [
    "#### Characteristics of clusters"
   ]
  },
  {
   "cell_type": "code",
   "execution_count": 109,
   "metadata": {},
   "outputs": [
    {
     "name": "stdout",
     "output_type": "stream",
     "text": [
      "Cluster: 1\n",
      "Average Episodes: 11.835646213007859\n",
      "Average members: 18009.19127236248\n",
      "Average User Rating: 8.524237469728568\n",
      "Average Number of movies rated: 434.05417071397056\n"
     ]
    }
   ],
   "source": [
    "clust_char(1)"
   ]
  },
  {
   "cell_type": "code",
   "execution_count": 110,
   "metadata": {},
   "outputs": [
    {
     "name": "stdout",
     "output_type": "stream",
     "text": [
      "Cluster: 2\n",
      "Average Episodes: 47.142857142857146\n",
      "Average members: 582550.6071428572\n",
      "Average User Rating: 9.033797074746781\n",
      "Average Number of movies rated: 189.2201602528574\n"
     ]
    }
   ],
   "source": [
    "clust_char(2)"
   ]
  },
  {
   "cell_type": "code",
   "execution_count": 111,
   "metadata": {
    "scrolled": true
   },
   "outputs": [
    {
     "name": "stdout",
     "output_type": "stream",
     "text": [
      "Cluster: 3\n",
      "Average Episodes: 19.27777777777778\n",
      "Average members: 179760.69607843139\n",
      "Average User Rating: 8.775207414283406\n",
      "Average Number of movies rated: 274.8660239011003\n"
     ]
    }
   ],
   "source": [
    "clust_char(3)"
   ]
  },
  {
   "cell_type": "code",
   "execution_count": 112,
   "metadata": {},
   "outputs": [
    {
     "name": "stdout",
     "output_type": "stream",
     "text": [
      "Cluster: 4\n",
      "Average Episodes: 37.75\n",
      "Average members: 899227.75\n",
      "Average User Rating: 9.276407497460896\n",
      "Average Number of movies rated: 148.13203068314704\n"
     ]
    }
   ],
   "source": [
    "clust_char(4)"
   ]
  },
  {
   "cell_type": "code",
   "execution_count": 113,
   "metadata": {},
   "outputs": [
    {
     "name": "stdout",
     "output_type": "stream",
     "text": [
      "Cluster: 5\n",
      "Average Episodes: 27.233333333333334\n",
      "Average members: 348414.8\n",
      "Average User Rating: 8.911780119985925\n",
      "Average Number of movies rated: 226.7026934057593\n"
     ]
    }
   ],
   "source": [
    "clust_char(5)"
   ]
  },
  {
   "cell_type": "code",
   "execution_count": 117,
   "metadata": {},
   "outputs": [],
   "source": [
    "from wordcloud import WordCloud\n",
    "\n",
    "def makeCloud(Dict,name,color):\n",
    "    words = dict()\n",
    "\n",
    "    for s in Dict:\n",
    "        words[s[0]] = s[1]\n",
    "\n",
    "        wordcloud = WordCloud(\n",
    "                      width=1500,\n",
    "                      height=500, \n",
    "                      background_color=color, \n",
    "                      max_words=20,\n",
    "                      max_font_size=500, \n",
    "                      normalize_plurals=False)\n",
    "        wordcloud.generate_from_frequencies(words)\n",
    "\n",
    "\n",
    "    fig = plt.figure(figsize=(12, 8))\n",
    "    plt.title(name)\n",
    "    plt.imshow(wordcloud)\n",
    "    plt.axis('off')\n",
    "\n",
    "    plt.show()"
   ]
  },
  {
   "cell_type": "code",
   "execution_count": 119,
   "metadata": {},
   "outputs": [],
   "source": [
    "def count_word(df, ref_col, liste):\n",
    "    keyword_count = dict()\n",
    "    for s in liste: keyword_count[s] = 0\n",
    "    for liste_keywords in df[ref_col].str.split(','):        \n",
    "        if type(liste_keywords) == float and pd.isnull(liste_keywords): continue        \n",
    "        for s in [s for s in liste_keywords if s in liste]: \n",
    "            if pd.notnull(s): keyword_count[s] += 1\n",
    "    \n",
    "    keyword_occurences = []\n",
    "    for k,v in keyword_count.items():\n",
    "        keyword_occurences.append([k,v])\n",
    "    keyword_occurences.sort(key = lambda x:x[1], reverse = True)\n",
    "    return keyword_occurences, keyword_count"
   ]
  },
  {
   "cell_type": "code",
   "execution_count": 120,
   "metadata": {},
   "outputs": [],
   "source": [
    "set_keywords = set()\n",
    "for liste_keywords in total_data['genre'].str.split(',').values:\n",
    "    if isinstance(liste_keywords, float): continue  \n",
    "    set_keywords = set_keywords.union(liste_keywords)"
   ]
  },
  {
   "cell_type": "markdown",
   "metadata": {},
   "source": [
    "Favorite genre for these clusters"
   ]
  },
  {
   "cell_type": "code",
   "execution_count": 130,
   "metadata": {},
   "outputs": [
    {
     "data": {
      "image/png": "[encoded data removed]",
      "text/plain": [
       "<Figure size 864x576 with 1 Axes>"
      ]
     },
     "metadata": {
      "needs_background": "light"
     },
     "output_type": "display_data"
    }
   ],
   "source": [
    "#cluster 1\n",
    "keyword_occurences, dum = count_word(total_data[total_data['cluster']==0], 'genre', set_keywords)\n",
    "makeCloud(keyword_occurences[0:10],\"cluster 1\",\"lemonchiffon\")"
   ]
  },
  {
   "cell_type": "code",
   "execution_count": 131,
   "metadata": {},
   "outputs": [
    {
     "data": {
      "image/png": "[encoded data removed]",
      "text/plain": [
       "<Figure size 864x576 with 1 Axes>"
      ]
     },
     "metadata": {
      "needs_background": "light"
     },
     "output_type": "display_data"
    }
   ],
   "source": [
    "#cluster 2\n",
    "keyword_occurences, dum = count_word(total_data[total_data['cluster']==1], 'genre', set_keywords)\n",
    "makeCloud(keyword_occurences[0:10],\"cluster 2\",\"lemonchiffon\")"
   ]
  },
  {
   "cell_type": "code",
   "execution_count": 132,
   "metadata": {},
   "outputs": [
    {
     "data": {
      "image/png": "[encoded data removed]",
      "text/plain": [
       "<Figure size 864x576 with 1 Axes>"
      ]
     },
     "metadata": {
      "needs_background": "light"
     },
     "output_type": "display_data"
    }
   ],
   "source": [
    "#cluster 3\n",
    "keyword_occurences, dum = count_word(total_data[total_data['cluster']==2], 'genre', set_keywords)\n",
    "makeCloud(keyword_occurences[0:10],\"cluster 3\",\"lemonchiffon\")"
   ]
  },
  {
   "cell_type": "code",
   "execution_count": 133,
   "metadata": {},
   "outputs": [
    {
     "data": {
      "image/png": "[encoded data removed]",
      "text/plain": [
       "<Figure size 864x576 with 1 Axes>"
      ]
     },
     "metadata": {
      "needs_background": "light"
     },
     "output_type": "display_data"
    }
   ],
   "source": [
    "#cluster 4\n",
    "keyword_occurences, dum = count_word(total_data[total_data['cluster']==3], 'genre', set_keywords)\n",
    "makeCloud(keyword_occurences[0:10],\"cluster 4\",\"lemonchiffon\")"
   ]
  },
  {
   "cell_type": "code",
   "execution_count": 134,
   "metadata": {},
   "outputs": [
    {
     "data": {
      "image/png": "[encoded data removed]",
      "text/plain": [
       "<Figure size 864x576 with 1 Axes>"
      ]
     },
     "metadata": {
      "needs_background": "light"
     },
     "output_type": "display_data"
    }
   ],
   "source": [
    "#cluster 5\n",
    "keyword_occurences, dum = count_word(total_data[total_data['cluster']==4], 'genre', set_keywords)\n",
    "makeCloud(keyword_occurences[0:10],\"cluster 5\",\"lemonchiffon\")"
   ]
  },
  {
   "cell_type": "markdown",
   "metadata": {},
   "source": [
    "Given the name of the show predicting some shows for recommending to the user"
   ]
  },
  {
   "cell_type": "code",
   "execution_count": 233,
   "metadata": {},
   "outputs": [],
   "source": [
    "def predict_shows(show_name):\n",
    "    cluster_num = total_data[total_data['name'] == show_name]['cluster'].unique()[0]\n",
    "    avg_userrating = total_data[total_data['name'] == show_name]['User_rating'].mean()\n",
    "    recom = total_data[total_data['cluster']==cluster_num]\n",
    "    recom = recom[recom['name']!=show_name]\n",
    "    recom = recom[(recom['User_rating']<avg_userrating+0.5) & (recom['User_rating']>=avg_userrating-0.5)] \n",
    "    recom = recom.groupby('name').mean().reset_index()\n",
    "    recom = recom.drop(['anime_id','user_id','cluster'],axis=1)\n",
    "    recom = recom.rename(columns={'User_rating':'Meanuserrating/anime','Mean_rating':'Avg(Mean_rating)/anime','Num_mvs_rated':'Avg(Num_mvs_rated)/anime'})\n",
    "    recom = recom.sort_values(['Meanuserrating/anime','Avg(Mean_rating)/anime','Avg(Num_mvs_rated)/anime'],ascending=[False,True,False])\n",
    "    print(recom['name'][0:15])"
   ]
  },
  {
   "cell_type": "code",
   "execution_count": 234,
   "metadata": {},
   "outputs": [
    {
     "name": "stdout",
     "output_type": "stream",
     "text": [
      "0    Fullmetal Alchemist: Brotherhood\n",
      "1                  Shingeki no Kyojin\n",
      "2                    Sword Art Online\n",
      "Name: name, dtype: object\n"
     ]
    }
   ],
   "source": [
    "predict_shows('Death Note')"
   ]
  },
  {
   "cell_type": "code",
   "execution_count": 235,
   "metadata": {},
   "outputs": [
    {
     "name": "stdout",
     "output_type": "stream",
     "text": [
      "30                          Gintama\n",
      "59                         Mushishi\n",
      "3                          Baccano!\n",
      "14             Clannad: After Story\n",
      "27             Fate/Zero 2nd Season\n",
      "77                   Shinsekai yori\n",
      "60                  NHK ni Youkoso!\n",
      "56       Mahou Shoujo Madoka★Magica\n",
      "25                             FLCL\n",
      "74    Sen to Chihiro no Kamikakushi\n",
      "58                    Mononoke Hime\n",
      "62          Neon Genesis Evangelion\n",
      "35                Hellsing Ultimate\n",
      "76          Shigatsu wa Kimi no Uso\n",
      "26                        Fate/Zero\n",
      "Name: name, dtype: object\n"
     ]
    }
   ],
   "source": [
    "predict_shows('Hunter x Hunter (2011)')"
   ]
  },
  {
   "cell_type": "code",
   "execution_count": 236,
   "metadata": {},
   "outputs": [
    {
     "name": "stdout",
     "output_type": "stream",
     "text": [
      "22                           Steins;Gate\n",
      "19                         One Punch Man\n",
      "24            Tengen Toppa Gurren Lagann\n",
      "8     Code Geass: Hangyaku no Lelouch R2\n",
      "4                         Bakemonogatari\n",
      "7        Code Geass: Hangyaku no Lelouch\n",
      "14                          Kill la Kill\n",
      "6                                Clannad\n",
      "9                             Durarara!!\n",
      "20                           Psycho-Pass\n",
      "12                   Fullmetal Alchemist\n",
      "26                             Toradora!\n",
      "17                       No Game No Life\n",
      "1                           Angel Beats!\n",
      "11                            Fairy Tail\n",
      "Name: name, dtype: object\n"
     ]
    }
   ],
   "source": [
    "predict_shows('Cowboy Bebop')"
   ]
  },
  {
   "cell_type": "code",
   "execution_count": 238,
   "metadata": {},
   "outputs": [
    {
     "name": "stdout",
     "output_type": "stream",
     "text": [
      "22                           Steins;Gate\n",
      "9                           Cowboy Bebop\n",
      "19                         One Punch Man\n",
      "24            Tengen Toppa Gurren Lagann\n",
      "8     Code Geass: Hangyaku no Lelouch R2\n",
      "4                         Bakemonogatari\n",
      "7        Code Geass: Hangyaku no Lelouch\n",
      "14                          Kill la Kill\n",
      "6                                Clannad\n",
      "10                            Durarara!!\n",
      "20                           Psycho-Pass\n",
      "26                             Toradora!\n",
      "17                       No Game No Life\n",
      "1                           Angel Beats!\n",
      "12                            Fairy Tail\n",
      "Name: name, dtype: object\n"
     ]
    }
   ],
   "source": [
    "predict_shows('Fullmetal Alchemist')"
   ]
  },
  {
   "cell_type": "markdown",
   "metadata": {},
   "source": [
    "#### Rough Work"
   ]
  },
  {
   "cell_type": "code",
   "execution_count": 225,
   "metadata": {},
   "outputs": [
    {
     "data": {
      "text/plain": [
       "3"
      ]
     },
     "execution_count": 225,
     "metadata": {},
     "output_type": "execute_result"
    }
   ],
   "source": [
    "total_data[total_data['name']=='Death Note']['cluster'].unique()[0]"
   ]
  },
  {
   "cell_type": "code",
   "execution_count": 226,
   "metadata": {},
   "outputs": [
    {
     "data": {
      "text/plain": [
       "9.271574973031283"
      ]
     },
     "execution_count": 226,
     "metadata": {},
     "output_type": "execute_result"
    }
   ],
   "source": [
    "temp = total_data[total_data['name']=='Death Note']['User_rating'].mean()\n",
    "temp"
   ]
  },
  {
   "cell_type": "code",
   "execution_count": 232,
   "metadata": {},
   "outputs": [
    {
     "data": {
      "text/plain": [
       "0    Fullmetal Alchemist: Brotherhood\n",
       "1                  Shingeki no Kyojin\n",
       "2                    Sword Art Online\n",
       "Name: name, dtype: object"
      ]
     },
     "execution_count": 232,
     "metadata": {},
     "output_type": "execute_result"
    }
   ],
   "source": [
    "recom = total_data[total_data['cluster']==3]\n",
    "recom = recom[recom['name']!='Death Note']\n",
    "recom = recom[(recom['User_rating']<temp+0.5) & (recom['User_rating']>=temp-0.5)] \n",
    "recom = recom.groupby('name').mean().reset_index() \n",
    "recom = recom.drop(['anime_id','user_id','cluster'],axis=1)\n",
    "recom = recom.rename(columns={'User_rating':'Meanuserrating/anime','Mean_rating':'Avg(Mean_rating)/anime','Num_mvs_rated':'Avg(Num_mvs_rated)/anime'})\n",
    "recom = recom.sort_values(['Meanuserrating/anime','Avg(Mean_rating)/anime','Avg(Num_mvs_rated)/anime'],ascending=[False,True,False])\n",
    "recom['name'][0:15]"
   ]
  }
 ],
 "metadata": {
  "kernelspec": {
   "display_name": "Python 3",
   "language": "python",
   "name": "python3"
  },
  "language_info": {
   "codemirror_mode": {
    "name": "ipython",
    "version": 3
   },
   "file_extension": ".py",
   "mimetype": "text/x-python",
   "name": "python",
   "nbconvert_exporter": "python",
   "pygments_lexer": "ipython3",
   "version": "3.6.9"
  }
 },
 "nbformat": 4,
 "nbformat_minor": 2
}
